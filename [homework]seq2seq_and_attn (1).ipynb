{
  "nbformat": 4,
  "nbformat_minor": 0,
  "metadata": {
    "accelerator": "GPU",
    "colab": {
      "name": "[homework]seq2seq_and_attn.ipynb",
      "provenance": [],
      "collapsed_sections": []
    },
    "kernelspec": {
      "name": "python3",
      "display_name": "Python 3"
    },
    "language_info": {
      "codemirror_mode": {
        "name": "ipython",
        "version": 3
      },
      "file_extension": ".py",
      "mimetype": "text/x-python",
      "name": "python",
      "nbconvert_exporter": "python",
      "pygments_lexer": "ipython3",
      "version": "3.7.6"
    }
  },
  "cells": [
    {
      "cell_type": "markdown",
      "metadata": {
        "colab_type": "text",
        "id": "jgH3CAcubM4z"
      },
      "source": [
        "# Hausaufgabe\n",
        "translate(Hausaufgabe) -> **Homework**\n",
        "\n",
        "Halo!\n",
        "На семинаре мы создали простую seq2seq модель на основе rnn для перевода, а сейчас постараемся засунуть туда attention. Работать будем с тем же датасетом DE->EN (датасеты получше просто не влезают в память колаба, но если у вас есть CPU+тонна времени или GPU побольше, то можно попробовать построить перевод на WMT14 или IWSLT )\n",
        "\n",
        "В конце домашней работы предполагается написание отчета о проделанной работе."
      ]
    },
    {
      "cell_type": "code",
      "metadata": {
        "colab_type": "code",
        "id": "1fPuwHEnVIzn",
        "colab": {}
      },
      "source": [
        "\n",
        "import torch\n",
        "import torch.nn as nn\n",
        "import torch.optim as optim\n",
        "from torchsummary import summary\n",
        "import numpy as np\n",
        "\n",
        "import spacy\n",
        "\n",
        "import random\n",
        "import math\n",
        "import time\n",
        "\n",
        "from torchtext.datasets import TranslationDataset, Multi30k #WMT14, IWSLT\n",
        "from torchtext.data import Field, BucketIterator\n",
        "\n",
        "import torch.nn.functional as F"
      ],
      "execution_count": 0,
      "outputs": []
    },
    {
      "cell_type": "code",
      "metadata": {
        "colab_type": "code",
        "id": "uQSnhb84VLU7",
        "colab": {}
      },
      "source": [
        "seed = 43\n",
        "\n",
        "random.seed(seed)\n",
        "torch.manual_seed(seed)\n",
        "np.random.seed(seed)\n",
        "torch.backends.cudnn.deterministic = True\n",
        "\n",
        "device = torch.device('cuda' if torch.cuda.is_available() else 'cpu')"
      ],
      "execution_count": 0,
      "outputs": []
    },
    {
      "cell_type": "code",
      "metadata": {
        "colab_type": "code",
        "id": "L10vdpVaVXBo",
        "outputId": "3082b248-b662-47ac-a95c-ac2ca358017a",
        "colab": {
          "base_uri": "https://localhost:8080/",
          "height": 1000
        }
      },
      "source": [
        "! python -m spacy download en\n",
        "! python -m spacy download de\n",
        "\n",
        "\n",
        "spacy_de = spacy.load('de')\n",
        "spacy_en = spacy.load('en')"
      ],
      "execution_count": 3,
      "outputs": [
        {
          "output_type": "stream",
          "text": [
            "Requirement already satisfied: en_core_web_sm==2.2.5 from https://github.com/explosion/spacy-models/releases/download/en_core_web_sm-2.2.5/en_core_web_sm-2.2.5.tar.gz#egg=en_core_web_sm==2.2.5 in /usr/local/lib/python3.6/dist-packages (2.2.5)\n",
            "Requirement already satisfied: spacy>=2.2.2 in /usr/local/lib/python3.6/dist-packages (from en_core_web_sm==2.2.5) (2.2.4)\n",
            "Requirement already satisfied: setuptools in /usr/local/lib/python3.6/dist-packages (from spacy>=2.2.2->en_core_web_sm==2.2.5) (46.1.3)\n",
            "Requirement already satisfied: preshed<3.1.0,>=3.0.2 in /usr/local/lib/python3.6/dist-packages (from spacy>=2.2.2->en_core_web_sm==2.2.5) (3.0.2)\n",
            "Requirement already satisfied: srsly<1.1.0,>=1.0.2 in /usr/local/lib/python3.6/dist-packages (from spacy>=2.2.2->en_core_web_sm==2.2.5) (1.0.2)\n",
            "Requirement already satisfied: blis<0.5.0,>=0.4.0 in /usr/local/lib/python3.6/dist-packages (from spacy>=2.2.2->en_core_web_sm==2.2.5) (0.4.1)\n",
            "Requirement already satisfied: requests<3.0.0,>=2.13.0 in /usr/local/lib/python3.6/dist-packages (from spacy>=2.2.2->en_core_web_sm==2.2.5) (2.21.0)\n",
            "Requirement already satisfied: wasabi<1.1.0,>=0.4.0 in /usr/local/lib/python3.6/dist-packages (from spacy>=2.2.2->en_core_web_sm==2.2.5) (0.6.0)\n",
            "Requirement already satisfied: murmurhash<1.1.0,>=0.28.0 in /usr/local/lib/python3.6/dist-packages (from spacy>=2.2.2->en_core_web_sm==2.2.5) (1.0.2)\n",
            "Requirement already satisfied: numpy>=1.15.0 in /usr/local/lib/python3.6/dist-packages (from spacy>=2.2.2->en_core_web_sm==2.2.5) (1.18.3)\n",
            "Requirement already satisfied: plac<1.2.0,>=0.9.6 in /usr/local/lib/python3.6/dist-packages (from spacy>=2.2.2->en_core_web_sm==2.2.5) (1.1.3)\n",
            "Requirement already satisfied: cymem<2.1.0,>=2.0.2 in /usr/local/lib/python3.6/dist-packages (from spacy>=2.2.2->en_core_web_sm==2.2.5) (2.0.3)\n",
            "Requirement already satisfied: catalogue<1.1.0,>=0.0.7 in /usr/local/lib/python3.6/dist-packages (from spacy>=2.2.2->en_core_web_sm==2.2.5) (1.0.0)\n",
            "Requirement already satisfied: tqdm<5.0.0,>=4.38.0 in /usr/local/lib/python3.6/dist-packages (from spacy>=2.2.2->en_core_web_sm==2.2.5) (4.38.0)\n",
            "Requirement already satisfied: thinc==7.4.0 in /usr/local/lib/python3.6/dist-packages (from spacy>=2.2.2->en_core_web_sm==2.2.5) (7.4.0)\n",
            "Requirement already satisfied: idna<2.9,>=2.5 in /usr/local/lib/python3.6/dist-packages (from requests<3.0.0,>=2.13.0->spacy>=2.2.2->en_core_web_sm==2.2.5) (2.8)\n",
            "Requirement already satisfied: urllib3<1.25,>=1.21.1 in /usr/local/lib/python3.6/dist-packages (from requests<3.0.0,>=2.13.0->spacy>=2.2.2->en_core_web_sm==2.2.5) (1.24.3)\n",
            "Requirement already satisfied: certifi>=2017.4.17 in /usr/local/lib/python3.6/dist-packages (from requests<3.0.0,>=2.13.0->spacy>=2.2.2->en_core_web_sm==2.2.5) (2020.4.5.1)\n",
            "Requirement already satisfied: chardet<3.1.0,>=3.0.2 in /usr/local/lib/python3.6/dist-packages (from requests<3.0.0,>=2.13.0->spacy>=2.2.2->en_core_web_sm==2.2.5) (3.0.4)\n",
            "Requirement already satisfied: importlib-metadata>=0.20; python_version < \"3.8\" in /usr/local/lib/python3.6/dist-packages (from catalogue<1.1.0,>=0.0.7->spacy>=2.2.2->en_core_web_sm==2.2.5) (1.6.0)\n",
            "Requirement already satisfied: zipp>=0.5 in /usr/local/lib/python3.6/dist-packages (from importlib-metadata>=0.20; python_version < \"3.8\"->catalogue<1.1.0,>=0.0.7->spacy>=2.2.2->en_core_web_sm==2.2.5) (3.1.0)\n",
            "\u001b[38;5;2m✔ Download and installation successful\u001b[0m\n",
            "You can now load the model via spacy.load('en_core_web_sm')\n",
            "\u001b[38;5;2m✔ Linking successful\u001b[0m\n",
            "/usr/local/lib/python3.6/dist-packages/en_core_web_sm -->\n",
            "/usr/local/lib/python3.6/dist-packages/spacy/data/en\n",
            "You can now load the model via spacy.load('en')\n",
            "Collecting de_core_news_sm==2.2.5\n",
            "\u001b[?25l  Downloading https://github.com/explosion/spacy-models/releases/download/de_core_news_sm-2.2.5/de_core_news_sm-2.2.5.tar.gz (14.9MB)\n",
            "\u001b[K     |████████████████████████████████| 14.9MB 1.2MB/s \n",
            "\u001b[?25hRequirement already satisfied: spacy>=2.2.2 in /usr/local/lib/python3.6/dist-packages (from de_core_news_sm==2.2.5) (2.2.4)\n",
            "Requirement already satisfied: murmurhash<1.1.0,>=0.28.0 in /usr/local/lib/python3.6/dist-packages (from spacy>=2.2.2->de_core_news_sm==2.2.5) (1.0.2)\n",
            "Requirement already satisfied: preshed<3.1.0,>=3.0.2 in /usr/local/lib/python3.6/dist-packages (from spacy>=2.2.2->de_core_news_sm==2.2.5) (3.0.2)\n",
            "Requirement already satisfied: setuptools in /usr/local/lib/python3.6/dist-packages (from spacy>=2.2.2->de_core_news_sm==2.2.5) (46.1.3)\n",
            "Requirement already satisfied: blis<0.5.0,>=0.4.0 in /usr/local/lib/python3.6/dist-packages (from spacy>=2.2.2->de_core_news_sm==2.2.5) (0.4.1)\n",
            "Requirement already satisfied: catalogue<1.1.0,>=0.0.7 in /usr/local/lib/python3.6/dist-packages (from spacy>=2.2.2->de_core_news_sm==2.2.5) (1.0.0)\n",
            "Requirement already satisfied: requests<3.0.0,>=2.13.0 in /usr/local/lib/python3.6/dist-packages (from spacy>=2.2.2->de_core_news_sm==2.2.5) (2.21.0)\n",
            "Requirement already satisfied: thinc==7.4.0 in /usr/local/lib/python3.6/dist-packages (from spacy>=2.2.2->de_core_news_sm==2.2.5) (7.4.0)\n",
            "Requirement already satisfied: plac<1.2.0,>=0.9.6 in /usr/local/lib/python3.6/dist-packages (from spacy>=2.2.2->de_core_news_sm==2.2.5) (1.1.3)\n",
            "Requirement already satisfied: tqdm<5.0.0,>=4.38.0 in /usr/local/lib/python3.6/dist-packages (from spacy>=2.2.2->de_core_news_sm==2.2.5) (4.38.0)\n",
            "Requirement already satisfied: cymem<2.1.0,>=2.0.2 in /usr/local/lib/python3.6/dist-packages (from spacy>=2.2.2->de_core_news_sm==2.2.5) (2.0.3)\n",
            "Requirement already satisfied: wasabi<1.1.0,>=0.4.0 in /usr/local/lib/python3.6/dist-packages (from spacy>=2.2.2->de_core_news_sm==2.2.5) (0.6.0)\n",
            "Requirement already satisfied: srsly<1.1.0,>=1.0.2 in /usr/local/lib/python3.6/dist-packages (from spacy>=2.2.2->de_core_news_sm==2.2.5) (1.0.2)\n",
            "Requirement already satisfied: numpy>=1.15.0 in /usr/local/lib/python3.6/dist-packages (from spacy>=2.2.2->de_core_news_sm==2.2.5) (1.18.3)\n",
            "Requirement already satisfied: importlib-metadata>=0.20; python_version < \"3.8\" in /usr/local/lib/python3.6/dist-packages (from catalogue<1.1.0,>=0.0.7->spacy>=2.2.2->de_core_news_sm==2.2.5) (1.6.0)\n",
            "Requirement already satisfied: certifi>=2017.4.17 in /usr/local/lib/python3.6/dist-packages (from requests<3.0.0,>=2.13.0->spacy>=2.2.2->de_core_news_sm==2.2.5) (2020.4.5.1)\n",
            "Requirement already satisfied: urllib3<1.25,>=1.21.1 in /usr/local/lib/python3.6/dist-packages (from requests<3.0.0,>=2.13.0->spacy>=2.2.2->de_core_news_sm==2.2.5) (1.24.3)\n",
            "Requirement already satisfied: chardet<3.1.0,>=3.0.2 in /usr/local/lib/python3.6/dist-packages (from requests<3.0.0,>=2.13.0->spacy>=2.2.2->de_core_news_sm==2.2.5) (3.0.4)\n",
            "Requirement already satisfied: idna<2.9,>=2.5 in /usr/local/lib/python3.6/dist-packages (from requests<3.0.0,>=2.13.0->spacy>=2.2.2->de_core_news_sm==2.2.5) (2.8)\n",
            "Requirement already satisfied: zipp>=0.5 in /usr/local/lib/python3.6/dist-packages (from importlib-metadata>=0.20; python_version < \"3.8\"->catalogue<1.1.0,>=0.0.7->spacy>=2.2.2->de_core_news_sm==2.2.5) (3.1.0)\n",
            "Building wheels for collected packages: de-core-news-sm\n",
            "  Building wheel for de-core-news-sm (setup.py) ... \u001b[?25l\u001b[?25hdone\n",
            "  Created wheel for de-core-news-sm: filename=de_core_news_sm-2.2.5-cp36-none-any.whl size=14907056 sha256=66705f4a4633af8fcc6d382ec7b43c58a354e8c509927d737ddc4cd0335cb42d\n",
            "  Stored in directory: /tmp/pip-ephem-wheel-cache-g3ejdlzl/wheels/ba/3f/ed/d4aa8e45e7191b7f32db4bfad565e7da1edbf05c916ca7a1ca\n",
            "Successfully built de-core-news-sm\n",
            "Installing collected packages: de-core-news-sm\n",
            "Successfully installed de-core-news-sm-2.2.5\n",
            "\u001b[38;5;2m✔ Download and installation successful\u001b[0m\n",
            "You can now load the model via spacy.load('de_core_news_sm')\n",
            "\u001b[38;5;2m✔ Linking successful\u001b[0m\n",
            "/usr/local/lib/python3.6/dist-packages/de_core_news_sm -->\n",
            "/usr/local/lib/python3.6/dist-packages/spacy/data/de\n",
            "You can now load the model via spacy.load('de')\n"
          ],
          "name": "stdout"
        }
      ]
    },
    {
      "cell_type": "code",
      "metadata": {
        "colab_type": "code",
        "id": "ferOqkOUVirW",
        "colab": {}
      },
      "source": [
        "def tokenize_de(text):\n",
        "    \"\"\"\n",
        "    Tokenizes German text from a string into a list of strings (tokens) and reverses it\n",
        "    \"\"\"\n",
        "    return [tok.text for tok in spacy_de.tokenizer(text)][::-1]\n",
        "\n",
        "def tokenize_en(text):\n",
        "    \"\"\"\n",
        "    Tokenizes English text from a string into a list of strings (tokens)\n",
        "    \"\"\"\n",
        "    return [tok.text for tok in spacy_en.tokenizer(text)]\n",
        "\n",
        "# немецкий язык является полем SRC, а английский в поле TRG\n",
        "SRC = Field(tokenize = tokenize_de, \n",
        "            init_token = '<sos>', \n",
        "            eos_token = '<eos>', \n",
        "            lower = True)\n",
        "\n",
        "TRG = Field(tokenize = tokenize_en, \n",
        "            init_token = '<sos>', \n",
        "            eos_token = '<eos>', \n",
        "            lower = True)"
      ],
      "execution_count": 0,
      "outputs": []
    },
    {
      "cell_type": "code",
      "metadata": {
        "colab_type": "code",
        "id": "u6pNY6cWW3j5",
        "colab": {
          "base_uri": "https://localhost:8080/",
          "height": 118
        },
        "outputId": "5dedc883-16d4-4da1-c570-2b46b34a2e7f"
      },
      "source": [
        "# В датасете содержится ~ 30к предложений средняя длина которых 11\n",
        "train_data, valid_data, test_data = Multi30k.splits(exts = ('.de', '.en'),  fields = (SRC, TRG))"
      ],
      "execution_count": 5,
      "outputs": [
        {
          "output_type": "stream",
          "text": [
            "\rtraining.tar.gz:   0%|          | 0.00/1.21M [00:00<?, ?B/s]"
          ],
          "name": "stderr"
        },
        {
          "output_type": "stream",
          "text": [
            "downloading training.tar.gz\n"
          ],
          "name": "stdout"
        },
        {
          "output_type": "stream",
          "text": [
            "training.tar.gz: 100%|██████████| 1.21M/1.21M [00:00<00:00, 4.89MB/s]\n",
            "validation.tar.gz: 100%|██████████| 46.3k/46.3k [00:00<00:00, 1.47MB/s]"
          ],
          "name": "stderr"
        },
        {
          "output_type": "stream",
          "text": [
            "downloading validation.tar.gz\n",
            "downloading mmt_task1_test2016.tar.gz\n"
          ],
          "name": "stdout"
        },
        {
          "output_type": "stream",
          "text": [
            "\n",
            "mmt_task1_test2016.tar.gz: 100%|██████████| 66.2k/66.2k [00:00<00:00, 1.33MB/s]\n"
          ],
          "name": "stderr"
        }
      ]
    },
    {
      "cell_type": "markdown",
      "metadata": {
        "colab_type": "text",
        "id": "iOS3e7QZbLro"
      },
      "source": [
        "Давайте посмотрим что у нас с датасетом и сделаем словари для SRC и TGT"
      ]
    },
    {
      "cell_type": "code",
      "metadata": {
        "colab_type": "code",
        "id": "r0Xpf4IBW4Uf",
        "outputId": "86eec0a2-2d65-4662-d0af-ae4465c22671",
        "colab": {
          "base_uri": "https://localhost:8080/",
          "height": 67
        }
      },
      "source": [
        "labels = ['train', 'validation', 'test']\n",
        "dataloaders = [train_data, valid_data, test_data]\n",
        "for d, l in zip(dataloaders, labels):\n",
        "    print(\"Number of sentences in {} : {}\".format(l, len(d.examples)))\n"
      ],
      "execution_count": 6,
      "outputs": [
        {
          "output_type": "stream",
          "text": [
            "Number of sentences in train : 29000\n",
            "Number of sentences in validation : 1014\n",
            "Number of sentences in test : 1000\n"
          ],
          "name": "stdout"
        }
      ]
    },
    {
      "cell_type": "code",
      "metadata": {
        "colab_type": "code",
        "id": "Gg63m8haW4XC",
        "outputId": "0531e5de-dfe2-40f4-c096-8c72407b76b6",
        "colab": {
          "base_uri": "https://localhost:8080/",
          "height": 50
        }
      },
      "source": [
        "SRC.build_vocab(train_data, min_freq = 2)\n",
        "TRG.build_vocab(train_data, min_freq = 2)\n",
        "print(\"Number of words in source vocabulary\", len(SRC.vocab))\n",
        "print(\"Number of words in source vocabulary\", len(TRG.vocab))"
      ],
      "execution_count": 7,
      "outputs": [
        {
          "output_type": "stream",
          "text": [
            "Number of words in source vocabulary 7855\n",
            "Number of words in source vocabulary 5893\n"
          ],
          "name": "stdout"
        }
      ]
    },
    {
      "cell_type": "markdown",
      "metadata": {
        "colab_type": "text",
        "id": "LSd3la5FbJ5_"
      },
      "source": [
        "## Encoder\n",
        "\n",
        "Энкодер будет ровно как в семинаре, с кдинственным изменением -- forward будет возвращать не только hidden, cell, но еще и outputs. Это нужно (надеюсь, вы уже поняли) для использования attention в декодере"
      ]
    },
    {
      "cell_type": "code",
      "metadata": {
        "colab_type": "code",
        "id": "_Ar5SN6tW4ck",
        "colab": {}
      },
      "source": [
        "from torch.nn.utils.rnn import pack_padded_sequence, pad_packed_sequence #попробовать эти методы\n",
        "\n",
        "class Encoder(nn.Module):\n",
        "    def __init__(self, input_dim, emb_dim, hid_dim, n_layers, dropout, bidirectional = False):\n",
        "        \"\"\"\n",
        "        :param: input_dim is the size/dimensionality of the one-hot vectors that will be input to the encoder. This is equal to the input (source) vocabulary size.\n",
        "        :param: emb_dim is the dimensionality of the embedding layer. This layer converts the one-hot vectors into dense vectors with emb_dim dimensions.\n",
        "        :param: hid_dim is the dimensionality of the hidden and cell states.\n",
        "        :param: n_layers is the number of layers in the RNN.\n",
        "        :param: percentage of the dropout to use\n",
        "        \n",
        "        \"\"\"\n",
        "        super().__init__()\n",
        "        \n",
        "        self.input_dim = input_dim\n",
        "        self.emb_dim = emb_dim\n",
        "        self.hid_dim = hid_dim\n",
        "        self.n_layers = n_layers\n",
        "\n",
        "        self.embedding = nn.Embedding(input_dim, emb_dim)\n",
        " \n",
        "        self.rnn = nn.GRU(input_size=emb_dim, num_layers = n_layers, hidden_size=hid_dim, bidirectional = bidirectional) #попробовать поменять на lstm или gru\n",
        "                                                                                           #не забывать про bidirectional\n",
        "        self.dropout = nn.Dropout(dropout)\n",
        "        \n",
        "    def forward(self, src):\n",
        "        \"\"\"\n",
        "        :param: src sentences (src_len x batch_size)\n",
        "        \"\"\"\n",
        "        # embedded = <TODO> (src_len x batch_size x embd_dim)\n",
        "        embedded = self.embedding(src)\n",
        "        # dropout over embedding\n",
        "        embedded = self.dropout(embedded)\n",
        "        outputs, hidden = self.rnn(embedded)\n",
        "        # [Attention return is for lstm, but you can also use gru]\n",
        "        return outputs, hidden"
      ],
      "execution_count": 0,
      "outputs": []
    },
    {
      "cell_type": "code",
      "metadata": {
        "id": "TCn8Ncew8_i3",
        "colab_type": "code",
        "outputId": "f1b3ec8b-316f-4517-af74-108474fd35d4",
        "colab": {
          "base_uri": "https://localhost:8080/",
          "height": 34
        }
      },
      "source": [
        "a = torch.tensor([[1,2,3], [1,2,0], [1,0,0]])\n",
        "pack_padded_sequence(a, [3,2,1])"
      ],
      "execution_count": 0,
      "outputs": [
        {
          "output_type": "execute_result",
          "data": {
            "text/plain": [
              "PackedSequence(data=tensor([1, 2, 3, 1, 2, 1]), batch_sizes=tensor([3, 2, 1]), sorted_indices=None, unsorted_indices=None)"
            ]
          },
          "metadata": {
            "tags": []
          },
          "execution_count": 22
        }
      ]
    },
    {
      "cell_type": "markdown",
      "metadata": {
        "colab_type": "text",
        "id": "-8QOCpKxfD3M"
      },
      "source": [
        "## Decoder\n",
        "Оп ля, а тут уже что-то новенькое\n",
        "\n",
        "Мы будем реализовывать attention, который будет смотреть из tgt в src (НЕ self-attention). \n",
        "\n",
        "Определим два класса -- Attention и DecoderAttn. Мы разбили их на два класса, чтобы можно было играться с типом внимания, не меняя код DecoderAttn. Как вы помните с лекции, в качестве аттеншена можно брать любую странную функцию (конкатенация, маленькая сеточка, ...), и все будет работать! Поэтому вам предлагается попробовать несколько разных.\n",
        "\n",
        "\n",
        "---------------------\n",
        "Есть два подхода к реализации аттеншена:\n",
        "\n",
        "Подход #1:\n",
        "\n",
        "1. Вычисляется embed\n",
        "2. На основе hidden c прошлого шага, embedded и (возможно) enc_out вычисляется attention, а точнее, веса attention (поэтому не забудьте softmax!!). Размерность batch_size * max_len, max_len -- максимальная длина предложения в батче, т.е. shape[0] от выхода энкодера.\n",
        "3. К enc_out применяется attention: чаще всего dot product от enc_out и attention_weights (не забудьте про измерение батч. Чтобы нормально вычислить dot_product по батчу, вам поможет torch.bmm)\n",
        "4. Берутся attention и embedded и сворачиваются в один вектор размерности такой, чтобы кормить его self.lstm. Например, это можно сделать с помощью обычного линейного слоя\n",
        "5. Вычисляется новое скрытое состояние new_hidden. Это наша self.lstm, примененная к выходу пункта 4.\n",
        "6. Вычисляется prediction, как в семинаре\n",
        "\n",
        "Грубо говоря, вся разница с семинаром в том, что мы вместо того, чтобы embedded пихать в self.lstm, миксуем аттэншен на основе всего, что имеем (enc_out, hidden, embedded) и запихиваем в self.lstm микс аттэншена и embedded.\n",
        "\n",
        "![alt text](https://i.imgur.com/cmkRY0r.png)\n",
        "\n",
        "\n",
        "Подход #2:\n",
        "\n",
        "1. Вычисляется embed\n",
        "2. Вычисляется output, new_hidden (строчка output, (hidden, cell) = self.rnn(embedded, (hidden, cell)))\n",
        "3. На основе output и enc_out вычисляется attention, а точнее, веса attention (поэтому не забудьте softmax!!)\n",
        "3. К enc_out применяется attention: чаще всего dot product от enc_out и attention_weights (не забудьте про измерение батч. Чтобы нормально вычислить dot_product по батчу, вам поможет torch.bmm)\n",
        "4. Вычисляется prediction на основе attention и output. Можно, например, взять nn.Linear() от конкатенации attention и output.\n",
        "\n",
        "Разница с первым подходом в том, что мы сначала вычисляем выход rnn слоя, а потом смотрим вниманием на src и на основе выхода rnn и attn считаем выход (prediction). \n",
        "\n",
        "![alt text](https://i.imgur.com/5aWjQWv.png)\n",
        "\n",
        "\n",
        "Вам предлагается реализовать хотя бы 1 из вариантов и хотя бы 2 варианта функции attention (в классе Attention)\n"
      ]
    },
    {
      "cell_type": "markdown",
      "metadata": {
        "id": "yiw71hH3_O39",
        "colab_type": "text"
      },
      "source": [
        "**Attention метод 2**"
      ]
    },
    {
      "cell_type": "code",
      "metadata": {
        "colab_type": "code",
        "id": "gRgtzaf4bJp6",
        "colab": {}
      },
      "source": [
        "class Attention(nn.Module):\n",
        "    def __init__(self,n_layers,hid_dim,device, method=\"one-layer-net\", bidirectional = False): # add parameters needed for your type of attention\n",
        "        super(Attention, self).__init__()\n",
        "        self.method = method # attention method you'll use. e.g. \"cat\", \"one-layer-net\", \"dot\", ...\n",
        "        self.linear_hidden = nn.Linear(n_layers*hid_dim*(bidirectional+1), hid_dim*(bidirectional+1))\n",
        "        self.bidirectional = bidirectional\n",
        "        self.hid_dim = hid_dim\n",
        "        self.device = device\n",
        "        self.n_layers = n_layers #1 или 2 слоя\n",
        "        \n",
        "    def forward(self, last_hidden, encoder_outputs, seq_len=None):\n",
        "        last_hidden = last_hidden[-self.n_layers*(1+self.bidirectional):]\n",
        "        curr = last_hidden[0]\n",
        "        for i in range(1, self.n_layers*(1+self.bidirectional)):\n",
        "          hidden = torch.cat((curr,last_hidden[i]), dim = -1)\n",
        "          curr = hidden\n",
        "        last_hidden = self.linear_hidden(curr) if self.n_layers > 1 else curr\n",
        "\n",
        "        if self.method == 'one-layer-net':\n",
        "          \"\"\"input = torch.zeros((encoder_outputs.shape[0], encoder_outputs.shape[1], 1)).to(self.device)#переделать, размер батча не всегда одинаковый\n",
        "          for ix in range(len(encoder_outputs)):\n",
        "            input[ix] = self.linear(torch.cat((encoder_outputs[ix], last_hidden), dim = -1))\"\"\"\n",
        "          last_hidden = last_hidden.squeeze(0)\n",
        "          encoder_outputs = torch.cat((encoder_outputs, last_hidden.repeat(encoder_outputs.shape[0],1).reshape(encoder_outputs.shape)), dim = -1)\n",
        "          self.linear = torch.randn_like(encoder_outputs,requires_grad = True)\n",
        "          input = torch.sum(self.linear*encoder_outputs, dim=-1).unsqueeze(-1)\n",
        "          return F.softmax(input, dim = 0)\n",
        "\n",
        "        elif self.method == 'dot':\n",
        "          input = torch.sum(last_hidden.unsqueeze(0)*encoder_outputs, dim = -1).unsqueeze_(-1)\n",
        "          return F.softmax(input, dim = 0)\n",
        "\n",
        "        else:\n",
        "          raise ValueError(self.method, 'method does not exist')\n",
        "        \n",
        "class DecoderAttn(nn.Module):\n",
        "    def __init__(self, output_dim, emb_dim, hid_dim, n_layers, attention, bidirectional = False, dropout=0.1):\n",
        "        super(DecoderAttn, self).__init__()\n",
        "        \n",
        "        self.emb_dim = emb_dim\n",
        "        self.hid_dim = hid_dim\n",
        "        self.output_dim = output_dim\n",
        "        self.n_layers = n_layers\n",
        "        self.bidirectional = bidirectional\n",
        "        \n",
        "        self.attn = attention # instance of Attention class\n",
        "\n",
        "        # define layers\n",
        "        self.embedding = nn.Embedding(output_dim,emb_dim)\n",
        "        \n",
        "        self.rnn = nn.GRU(emb_dim, hid_dim, n_layers, bidirectional = bidirectional) #(lstm embd, hid, layers, dropout), попробовать gru\n",
        "        self.out = nn.Linear(2*self.hid_dim*(1+bidirectional), self.output_dim) # Projection :hid_dim x output_dim\n",
        "        self.dropout = nn.Dropout(dropout)\n",
        "        #self.embed_linear = nn.Linear(self.hid_dim*(1+bidirectional) + self.emb_dim, self.hid_dim)\n",
        "\n",
        "        # more layers you'll need for attention\n",
        "        \n",
        "    def forward(self, input, hidden,encoder_output):\n",
        "        # make decoder with attention\n",
        "        # use code from seminar notebook as base and add attention to it\n",
        "        input_ = input.unsqueeze(0)\n",
        "        \n",
        "        # (1 x batch_size x emb_dim)\n",
        "        embedded = self.embedding(input_)# embd over input and dropout \n",
        "        embedded = self.dropout(embedded)\n",
        "\n",
        "        attn_weights = self.attn(hidden, encoder_output)\n",
        "        new_hidden = torch.sum(encoder_output*attn_weights, dim = 0) # (num_layers * num_directions, batch, hidden_size)\n",
        "        #assert hidden.shape == new_hidden.shape\n",
        "        #new_hidden = self.embed_linear(torch.cat((new_hidden, embedded), dim = -1))#для n_layers > 1 наверное придется продублировать 1 ось\n",
        "        #output, (hidden, cell) = self.rnn(embedded, (torch.cat((new_hidden, new_hidden), dim =0) if self.bidirectional else new_hidden, cell)) #сюда надо подавать ((1+bidirectional), batch_size, ...)\n",
        "        output, hidden = self.rnn(embedded, hidden)\n",
        "        new_hidden = new_hidden.repeat(output.shape[0],1)\n",
        "        new_hidden = new_hidden.reshape(output.shape)\n",
        "        output = torch.cat((new_hidden, output), dim=-1)\n",
        "        prediction = self.out(output.squeeze(0))\n",
        "        return prediction, hidden, attn_weights\n",
        "\n",
        "    def initHidden(self):\n",
        "        return torch.zeros(1, 1, self.hidden_size, device=device)"
      ],
      "execution_count": 0,
      "outputs": []
    },
    {
      "cell_type": "code",
      "metadata": {
        "id": "HiZtKt1kM1_I",
        "colab_type": "code",
        "colab": {
          "base_uri": "https://localhost:8080/",
          "height": 134
        },
        "outputId": "a31288ef-8b28-4ddb-bbe2-50ed99b92fd7"
      },
      "source": [
        "linear = nn.Linear(10, 3, )\n",
        "a = torch.ones(2,3,10)\n",
        "linear(a, )"
      ],
      "execution_count": 74,
      "outputs": [
        {
          "output_type": "execute_result",
          "data": {
            "text/plain": [
              "tensor([[[-0.3476, -0.9037,  1.2238],\n",
              "         [-0.3476, -0.9037,  1.2238],\n",
              "         [-0.3476, -0.9037,  1.2238]],\n",
              "\n",
              "        [[-0.3476, -0.9037,  1.2238],\n",
              "         [-0.3476, -0.9037,  1.2238],\n",
              "         [-0.3476, -0.9037,  1.2238]]], grad_fn=<AddBackward0>)"
            ]
          },
          "metadata": {
            "tags": []
          },
          "execution_count": 74
        }
      ]
    },
    {
      "cell_type": "markdown",
      "metadata": {
        "colab_type": "text",
        "id": "UlD7-nusfL86"
      },
      "source": [
        "## Seq2Seq module"
      ]
    },
    {
      "cell_type": "markdown",
      "metadata": {
        "colab_type": "text",
        "id": "HOineJlHpof2"
      },
      "source": [
        "Здесь опять ничего не поменяется кроме того, что энкодер теперь возвращает свой output, а декодер его принимает"
      ]
    },
    {
      "cell_type": "code",
      "metadata": {
        "id": "stX2lXm5YYJf",
        "colab_type": "code",
        "colab": {}
      },
      "source": [
        "BOS_IDX = SRC.vocab.stoi['<sos>']\n",
        "\n",
        "class Seq2Seq(nn.Module):\n",
        "    def __init__(self, encoder, decoder, device):\n",
        "        super().__init__()\n",
        "        # Hidden dimensions of encoder and decoder must be equal\n",
        "        self.encoder = encoder\n",
        "        self.decoder = decoder\n",
        "        self.device = device\n",
        "        self._init_weights() \n",
        "    \n",
        "    def forward(self, src, trg, teacher_forcing_ratio = 0.5):\n",
        "        \"\"\"\n",
        "        :param: src (src_len x batch_size)\n",
        "        :param: tgt\n",
        "        :param: teacher_forcing_ration : if 0.5 then every second token is the ground truth input\n",
        "        \"\"\"\n",
        "        \n",
        "        batch_size = trg.shape[1]\n",
        "        max_len = trg.shape[0]\n",
        "        trg_vocab_size = self.decoder.output_dim\n",
        "        \n",
        "        #tensor to store decoder outputs\n",
        "        outputs = torch.zeros(max_len, batch_size, trg_vocab_size).to(self.device)\n",
        "        \n",
        "        #last hidden state of the encoder is used as the initial hidden state of the decoder\n",
        "        out,hidden = self.encoder(src)\n",
        "        \n",
        "        #first input to the decoder is the <sos> tokens\n",
        "        input = trg[0, :]\n",
        "        \n",
        "        for t in range(1, max_len):\n",
        "            \n",
        "            output, hidden, _ = self.decoder(input, hidden, out) #TODO pass state and input throw decoder \n",
        "            outputs[t] = output\n",
        "            teacher_force = random.random() < teacher_forcing_ratio\n",
        "            top1 = output.max(1)[1]\n",
        "            input = (trg[t] if teacher_force else top1)\n",
        "        \n",
        "        return outputs\n",
        "    \n",
        "    def translate(self, src, input):   \n",
        "\n",
        "        max_len = input.shape[0]\n",
        "        batch_size = input.shape[1]\n",
        "     \n",
        "        outputs = torch.zeros(max_len, batch_size, self.decoder.output_dim).to(self.device)\n",
        "        \n",
        "        #last hidden state of the encoder is used as the initial hidden state of the decoder\n",
        "        src = torch.tensor(src).to(self.device)\n",
        "        out, hidden =  self.encoder(src)# TODO pass src throw encoder\n",
        "        \n",
        "        #first input to the decoder is the <sos> tokens\n",
        "        input = input[0, :]\n",
        "        weights = []\n",
        "        \n",
        "        model.eval()\n",
        "        for t in range(1, max_len):\n",
        "            with torch.no_grad():\n",
        "              output, hidden, weights_ = self.decoder(input, hidden, out) #TODO pass state and input throw decoder \n",
        "            outputs[t] = output\n",
        "            top1 = output.max(1)[1]\n",
        "            input = (top1)\n",
        "            weights.append(weights_)\n",
        "        \n",
        "        return outputs, weights\n",
        "    \n",
        "    def _init_weights(self):\n",
        "        p = 0.08\n",
        "        for name, param in self.named_parameters():\n",
        "            nn.init.uniform_(param.data, -p, p)"
      ],
      "execution_count": 0,
      "outputs": []
    },
    {
      "cell_type": "code",
      "metadata": {
        "colab_type": "code",
        "id": "msbn2VypfUur",
        "colab": {}
      },
      "source": [
        "input_dim = len(SRC.vocab)\n",
        "output_dim = len(TRG.vocab)\n",
        "src_embd_dim =  tgt_embd_dim = 256\n",
        "hidden_dim = 512\n",
        "num_layers =  2\n",
        "dropout_prob = 0.5\n",
        "\n",
        "batch_size = 64\n",
        "PAD_IDX = TRG.vocab.stoi['<pad>']\n",
        "\n",
        "iterators = BucketIterator.splits((train_data, valid_data, test_data),\n",
        "                                  batch_size = batch_size, device = device)\n",
        "train_iterator, valid_iterator, test_iterator = iterators\n",
        "\n",
        "enc = Encoder(input_dim, src_embd_dim, hidden_dim, num_layers, dropout_prob, True)\n",
        "attn = Attention(num_layers, hidden_dim,device, bidirectional=True)#попробовать поиграться с attention\n",
        "dec = DecoderAttn(output_dim, tgt_embd_dim, hidden_dim, num_layers, attn,True, dropout_prob)\n",
        "model = Seq2Seq(enc, dec, device).to(device)"
      ],
      "execution_count": 0,
      "outputs": []
    },
    {
      "cell_type": "code",
      "metadata": {
        "colab_type": "code",
        "id": "3vaUeDjTfU4k",
        "colab": {}
      },
      "source": [
        "def train(model, iterator, optimizer, criterion, clip):\n",
        "    \n",
        "    model.train()\n",
        "    \n",
        "    epoch_loss = 0\n",
        "    \n",
        "    for i, batch in enumerate(iterator):\n",
        "        \n",
        "        src = batch.src\n",
        "        trg = batch.trg\n",
        "        \n",
        "        optimizer.zero_grad()\n",
        "        \n",
        "        output= model(src, trg)\n",
        "        \n",
        "        \n",
        "        output = output[1:].view(-1, output.shape[-1])\n",
        "        trg = trg[1:].view(-1)\n",
        "        \n",
        "        loss = criterion(output, trg)\n",
        "        \n",
        "        loss.backward()\n",
        "        \n",
        "        torch.nn.utils.clip_grad_norm_(model.parameters(), clip)\n",
        "        \n",
        "        optimizer.step()\n",
        "        \n",
        "        epoch_loss += loss.item()\n",
        "        \n",
        "    return epoch_loss / len(iterator)"
      ],
      "execution_count": 0,
      "outputs": []
    },
    {
      "cell_type": "code",
      "metadata": {
        "colab_type": "code",
        "id": "HfbTx2FMjaIM",
        "colab": {}
      },
      "source": [
        "def evaluate(model, iterator, criterion):\n",
        "    \n",
        "    model.eval()\n",
        "    \n",
        "    epoch_loss = 0\n",
        "    \n",
        "    with torch.no_grad():\n",
        "    \n",
        "        for i, batch in enumerate(iterator):\n",
        "\n",
        "            src = batch.src\n",
        "            trg = batch.trg\n",
        "\n",
        "            output = model(src, trg, 0) #turn off teacher forcing !!\n",
        "            output = output[1:].view(-1, output.shape[-1])\n",
        "            trg = trg[1:].view(-1)\n",
        "\n",
        "\n",
        "            loss = criterion(output, trg)\n",
        "            \n",
        "            epoch_loss += loss.item()\n",
        "        \n",
        "    return epoch_loss / len(iterator)"
      ],
      "execution_count": 0,
      "outputs": []
    },
    {
      "cell_type": "code",
      "metadata": {
        "id": "d40KW2NYCMFb",
        "colab_type": "code",
        "colab": {}
      },
      "source": [
        "#import telegram_send\n",
        "#!telegram-send --configure"
      ],
      "execution_count": 0,
      "outputs": []
    },
    {
      "cell_type": "code",
      "metadata": {
        "colab_type": "code",
        "id": "lQV_yqkLjcyQ",
        "colab": {}
      },
      "source": [
        "from IPython.display import clear_output\n",
        "import matplotlib.pyplot as plt\n",
        "\n",
        "max_epochs = 30\n",
        "CLIP = 1\n",
        "\n",
        "# TODO\n",
        "optimizer = optim.Adam(model.parameters(), weight_decay = 1e-4)\n",
        "criterion = nn.CrossEntropyLoss(ignore_index = PAD_IDX)\n",
        "scheduler = optim.lr_scheduler.StepLR(optimizer, 3, gamma=0.5)\n",
        "\n",
        "best_valid_loss = float('inf')\n",
        "best_bleu = 0\n",
        "history_val = []\n",
        "history_train = []\n",
        "\n",
        "for epoch in range(max_epochs):\n",
        "    \n",
        "    \n",
        "    train_loss = round(train(model, train_iterator, optimizer, criterion, CLIP), 5)\n",
        "    valid_loss = round(evaluate(model, valid_iterator, criterion),5)\n",
        "    history_val.append(valid_loss)\n",
        "    history_train.append(train_loss)\n",
        "    \n",
        "    if best_bleu < compute_bleu(a, b):\n",
        "        best_bleu = compute_bleu(a, b)\n",
        "        torch.save(model.state_dict(), 'model.pt')\n",
        "    \n",
        "    scheduler.step()\n",
        "\n",
        "    clear_output(True)\n",
        "    print(compute_bleu(a,b))\n",
        "    plt.plot(history_train, label = 'train_loss')\n",
        "    plt.plot(history_val, label = 'valid_loss')\n",
        "    \"\"\"plt.savefig('image.jpg')\n",
        "    !telegram-send --image image.jpg \"\"\"\n",
        "    plt.show()\n",
        "\n",
        "    print('Epoch: {} \\n Train Loss {}  Val loss {}:'.format(epoch, train_loss, valid_loss))\n",
        "    print('Train Perplexity {}  Val Perplexity {}:'.format(np.exp(train_loss), np.exp(valid_loss)))\n",
        "#!telegram-send 'done'"
      ],
      "execution_count": 0,
      "outputs": []
    },
    {
      "cell_type": "code",
      "metadata": {
        "id": "McAubjZFn5BI",
        "colab_type": "code",
        "outputId": "90f6a2e9-7491-4f73-9b08-b674aa48b26e",
        "colab": {
          "base_uri": "https://localhost:8080/",
          "height": 34
        }
      },
      "source": [
        "model.load_state_dict(torch.load('model.pt'))"
      ],
      "execution_count": 84,
      "outputs": [
        {
          "output_type": "execute_result",
          "data": {
            "text/plain": [
              "<All keys matched successfully>"
            ]
          },
          "metadata": {
            "tags": []
          },
          "execution_count": 84
        }
      ]
    },
    {
      "cell_type": "code",
      "metadata": {
        "colab_type": "code",
        "id": "n5Zf6Kb1jhOI",
        "outputId": "d1c1e8a4-a815-4aa1-d2c6-0939a0bed96f",
        "colab": {
          "base_uri": "https://localhost:8080/",
          "height": 34
        }
      },
      "source": [
        "test_loss = evaluate(model, test_iterator, criterion)\n",
        "\n",
        "print('| Test Loss: {} Test PPL:{}|'.format(test_loss, np.exp(test_loss)))"
      ],
      "execution_count": 85,
      "outputs": [
        {
          "output_type": "stream",
          "text": [
            "| Test Loss: 3.294794335961342 Test PPL:26.971866356471775|\n"
          ],
          "name": "stdout"
        }
      ]
    },
    {
      "cell_type": "code",
      "metadata": {
        "colab_type": "code",
        "id": "an6HG7_uyjJN",
        "colab": {}
      },
      "source": [
        "EOS_IDX = SRC.vocab.stoi['<eos>']\n",
        "\n",
        "def translate(sentence, max_size = 10):\n",
        "    \"\"\"\n",
        "    function that uses .translate() method of the model to translate german sentence into english\n",
        "    params:\n",
        "        sentence: tokenized gernam sentence\n",
        "    \"\"\"\n",
        "    sent_vec = SRC.process([sentence]).to(device)\n",
        "    input = torch.zeros((max_size, 1)).type(torch.LongTensor).to(device)\n",
        "    input += SRC.vocab.stoi['<sos>']\n",
        "    translation_idx, weights = model.translate(sent_vec, input)\n",
        "    vyvod = []\n",
        "    for t in translation_idx:\n",
        "        if t[0].max(0)[1] != EOS_IDX:\n",
        "            vyvod.append(TRG.vocab.itos[t[0].max(0)[1]])\n",
        "        else:\n",
        "            vyvod.append('<eos>')\n",
        "            break\n",
        "    return vyvod, weights"
      ],
      "execution_count": 0,
      "outputs": []
    },
    {
      "cell_type": "code",
      "metadata": {
        "colab_type": "code",
        "id": "sP2TiDm18gyi",
        "colab": {
          "base_uri": "https://localhost:8080/",
          "height": 1000
        },
        "outputId": "09553ba0-4b23-4775-a864-20d320be9b1a"
      },
      "source": [
        "translate([\"<sos>\",\"ein\", \"klein\", \"apfel\", \"<eos>\"])"
      ],
      "execution_count": 86,
      "outputs": [
        {
          "output_type": "stream",
          "text": [
            "/usr/local/lib/python3.6/dist-packages/ipykernel_launcher.py:50: UserWarning: To copy construct from a tensor, it is recommended to use sourceTensor.clone().detach() or sourceTensor.clone().detach().requires_grad_(True), rather than torch.tensor(sourceTensor).\n"
          ],
          "name": "stderr"
        },
        {
          "output_type": "execute_result",
          "data": {
            "text/plain": [
              "(['<unk>', 'a', 'is', 'a', 'a', 'a', '.', '<eos>'], [tensor([[[1.3889e-19]],\n",
              "  \n",
              "          [[1.6025e-13]],\n",
              "  \n",
              "          [[1.0395e-08]],\n",
              "  \n",
              "          [[7.2918e-08]],\n",
              "  \n",
              "          [[1.0000e+00]],\n",
              "  \n",
              "          [[1.6359e-21]],\n",
              "  \n",
              "          [[1.6421e-12]]], device='cuda:0'), tensor([[[1.0000e+00]],\n",
              "  \n",
              "          [[1.9930e-37]],\n",
              "  \n",
              "          [[0.0000e+00]],\n",
              "  \n",
              "          [[0.0000e+00]],\n",
              "  \n",
              "          [[0.0000e+00]],\n",
              "  \n",
              "          [[0.0000e+00]],\n",
              "  \n",
              "          [[0.0000e+00]]], device='cuda:0'), tensor([[[1.4152e-29]],\n",
              "  \n",
              "          [[1.0874e-42]],\n",
              "  \n",
              "          [[5.0130e-27]],\n",
              "  \n",
              "          [[4.3443e-19]],\n",
              "  \n",
              "          [[1.0000e+00]],\n",
              "  \n",
              "          [[1.7332e-25]],\n",
              "  \n",
              "          [[0.0000e+00]]], device='cuda:0'), tensor([[[2.8026e-45]],\n",
              "  \n",
              "          [[1.7356e-37]],\n",
              "  \n",
              "          [[0.0000e+00]],\n",
              "  \n",
              "          [[1.0000e+00]],\n",
              "  \n",
              "          [[3.1932e-07]],\n",
              "  \n",
              "          [[0.0000e+00]],\n",
              "  \n",
              "          [[8.5216e-33]]], device='cuda:0'), tensor([[[5.7341e-28]],\n",
              "  \n",
              "          [[0.0000e+00]],\n",
              "  \n",
              "          [[0.0000e+00]],\n",
              "  \n",
              "          [[4.1909e-32]],\n",
              "  \n",
              "          [[1.0000e+00]],\n",
              "  \n",
              "          [[0.0000e+00]],\n",
              "  \n",
              "          [[5.1712e-18]]], device='cuda:0'), tensor([[[4.8312e-23]],\n",
              "  \n",
              "          [[0.0000e+00]],\n",
              "  \n",
              "          [[5.6990e-33]],\n",
              "  \n",
              "          [[4.0890e-36]],\n",
              "  \n",
              "          [[3.9412e-08]],\n",
              "  \n",
              "          [[1.0000e+00]],\n",
              "  \n",
              "          [[0.0000e+00]]], device='cuda:0'), tensor([[[0.0000e+00]],\n",
              "  \n",
              "          [[0.0000e+00]],\n",
              "  \n",
              "          [[3.0379e-37]],\n",
              "  \n",
              "          [[1.1456e-30]],\n",
              "  \n",
              "          [[5.0416e-38]],\n",
              "  \n",
              "          [[1.0000e+00]],\n",
              "  \n",
              "          [[0.0000e+00]]], device='cuda:0'), tensor([[[1.4139e-27]],\n",
              "  \n",
              "          [[1.6710e-40]],\n",
              "  \n",
              "          [[0.0000e+00]],\n",
              "  \n",
              "          [[3.9630e-36]],\n",
              "  \n",
              "          [[1.0000e+00]],\n",
              "  \n",
              "          [[6.2338e-08]],\n",
              "  \n",
              "          [[1.4013e-45]]], device='cuda:0'), tensor([[[2.3822e-44]],\n",
              "  \n",
              "          [[1.4628e-13]],\n",
              "  \n",
              "          [[1.0000e+00]],\n",
              "  \n",
              "          [[1.5133e-29]],\n",
              "  \n",
              "          [[0.0000e+00]],\n",
              "  \n",
              "          [[1.9586e-08]],\n",
              "  \n",
              "          [[1.4643e-11]]], device='cuda:0')])"
            ]
          },
          "metadata": {
            "tags": []
          },
          "execution_count": 86
        }
      ]
    },
    {
      "cell_type": "markdown",
      "metadata": {
        "colab_type": "text",
        "id": "tBrHtQ_qrSKX"
      },
      "source": [
        "ИИИИ давайте также научимся считать самую популярную метрику для перевода -- BLEU (https://en.wikipedia.org/wiki/BLEU)\n",
        "\n",
        "В общем-то, вам повезло -- ее писать руками скучно, да и nltk ее написало за вас:"
      ]
    },
    {
      "cell_type": "code",
      "metadata": {
        "colab_type": "code",
        "id": "HFIVyXXeJrCr",
        "colab": {}
      },
      "source": [
        "from nltk.translate.bleu_score import corpus_bleu, sentence_bleu\n",
        "from nltk.translate.bleu_score import SmoothingFunction\n",
        "\n",
        "def compute_bleu(inp_lines, out_lines):\n",
        "    \"\"\" Estimates corpora-level BLEU score of model's translations given inp and reference out \"\"\"\n",
        "    translations = [[translate(line)[0]] for line in inp_lines]\n",
        "    return corpus_bleu(translations, out_lines) * 100"
      ],
      "execution_count": 0,
      "outputs": []
    },
    {
      "cell_type": "code",
      "metadata": {
        "id": "pXMoE1b9O3dF",
        "colab_type": "code",
        "colab": {}
      },
      "source": [
        "a = [[SRC.vocab.itos[j] for j in next(iter(test_iterator)).src[:, i]] for i in range(64)]\n",
        "b = [[TRG.vocab.itos[j] for j in next(iter(test_iterator)).trg[:, i]] for i in range(64)]"
      ],
      "execution_count": 0,
      "outputs": []
    },
    {
      "cell_type": "code",
      "metadata": {
        "colab_type": "code",
        "id": "4bi1oJ_brjkO",
        "outputId": "612703d0-a590-43ea-f5cf-997498ad594c",
        "colab": {
          "base_uri": "https://localhost:8080/",
          "height": 70
        }
      },
      "source": [
        "compute_bleu(a, b)"
      ],
      "execution_count": 89,
      "outputs": [
        {
          "output_type": "stream",
          "text": [
            "/usr/local/lib/python3.6/dist-packages/ipykernel_launcher.py:50: UserWarning: To copy construct from a tensor, it is recommended to use sourceTensor.clone().detach() or sourceTensor.clone().detach().requires_grad_(True), rather than torch.tensor(sourceTensor).\n"
          ],
          "name": "stderr"
        },
        {
          "output_type": "execute_result",
          "data": {
            "text/plain": [
              "22.644147120737728"
            ]
          },
          "metadata": {
            "tags": []
          },
          "execution_count": 89
        }
      ]
    },
    {
      "cell_type": "code",
      "metadata": {
        "id": "P2TXwm-WajUT",
        "colab_type": "code",
        "colab": {}
      },
      "source": [
        "corpus_bleu([[['man', 'works']], [['man', 'works']]], [['man', 'works', 'cdssdcsd', 'dcscsdc', 'shit'], ['man', 'works']]) * 100"
      ],
      "execution_count": 0,
      "outputs": []
    },
    {
      "cell_type": "markdown",
      "metadata": {
        "id": "Kuf44w8R9WnV",
        "colab_type": "text"
      },
      "source": [
        "Если вы реализовали несколько методов аттеншена, опишите каждый из них и полученную метрику на нем в отчете.\n",
        "\n",
        "<Место для вашего отчета>"
      ]
    },
    {
      "cell_type": "code",
      "metadata": {
        "id": "8v7kSMdyE_sE",
        "colab_type": "code",
        "colab": {}
      },
      "source": [
        "source = next(iter(test_iterator)).src[:, 60]\n",
        "target = next(iter(test_iterator)).trg[:, 60]"
      ],
      "execution_count": 0,
      "outputs": []
    },
    {
      "cell_type": "code",
      "metadata": {
        "id": "l9nDGJB_GaKD",
        "colab_type": "code",
        "outputId": "b8d18323-608c-414f-af94-c6b1b694ebd9",
        "colab": {
          "base_uri": "https://localhost:8080/",
          "height": 218
        }
      },
      "source": [
        "[TRG.vocab.itos[j] for j in target]"
      ],
      "execution_count": 113,
      "outputs": [
        {
          "output_type": "execute_result",
          "data": {
            "text/plain": [
              "['<sos>',\n",
              " 'three',\n",
              " 'men',\n",
              " 'are',\n",
              " 'walking',\n",
              " 'up',\n",
              " 'hill',\n",
              " '.',\n",
              " '<eos>',\n",
              " '<pad>',\n",
              " '<pad>',\n",
              " '<pad>']"
            ]
          },
          "metadata": {
            "tags": []
          },
          "execution_count": 113
        }
      ]
    },
    {
      "cell_type": "code",
      "metadata": {
        "id": "CbaEJh4gG_gB",
        "colab_type": "code",
        "outputId": "9b054c9b-ac67-4c1d-c85a-368f7e003229",
        "colab": {
          "base_uri": "https://localhost:8080/",
          "height": 70
        }
      },
      "source": [
        "translate([SRC.vocab.itos[j] for j in source])[0]"
      ],
      "execution_count": 114,
      "outputs": [
        {
          "output_type": "stream",
          "text": [
            "/usr/local/lib/python3.6/dist-packages/ipykernel_launcher.py:50: UserWarning: To copy construct from a tensor, it is recommended to use sourceTensor.clone().detach() or sourceTensor.clone().detach().requires_grad_(True), rather than torch.tensor(sourceTensor).\n"
          ],
          "name": "stderr"
        },
        {
          "output_type": "execute_result",
          "data": {
            "text/plain": [
              "['<unk>', 'three', 'men', 'are', 'walking', 'around', '.', '<eos>']"
            ]
          },
          "metadata": {
            "tags": []
          },
          "execution_count": 114
        }
      ]
    },
    {
      "cell_type": "code",
      "metadata": {
        "id": "EnpfLv09eWgb",
        "colab_type": "code",
        "colab": {}
      },
      "source": [
        ""
      ],
      "execution_count": 0,
      "outputs": []
    }
  ]
}