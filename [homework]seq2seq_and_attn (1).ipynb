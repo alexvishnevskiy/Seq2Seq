{
  "nbformat": 4,
  "nbformat_minor": 0,
  "metadata": {
    "accelerator": "GPU",
    "colab": {
      "name": "[homework]seq2seq_and_attn.ipynb",
      "provenance": [],
      "collapsed_sections": []
    },
    "kernelspec": {
      "name": "python3",
      "display_name": "Python 3"
    },
    "language_info": {
      "codemirror_mode": {
        "name": "ipython",
        "version": 3
      },
      "file_extension": ".py",
      "mimetype": "text/x-python",
      "name": "python",
      "nbconvert_exporter": "python",
      "pygments_lexer": "ipython3",
      "version": "3.7.6"
    }
  },
  "cells": [
    {
      "cell_type": "markdown",
      "metadata": {
        "colab_type": "text",
        "id": "jgH3CAcubM4z"
      },
      "source": [
        "# Hausaufgabe\n",
        "translate(Hausaufgabe) -> **Homework**\n",
        "\n",
        "Halo!\n",
        "На семинаре мы создали простую seq2seq модель на основе rnn для перевода, а сейчас постараемся засунуть туда attention. Работать будем с тем же датасетом DE->EN (датасеты получше просто не влезают в память колаба, но если у вас есть CPU+тонна времени или GPU побольше, то можно попробовать построить перевод на WMT14 или IWSLT )\n",
        "\n",
        "В конце домашней работы предполагается написание отчета о проделанной работе."
      ]
    },
    {
      "cell_type": "code",
      "metadata": {
        "colab_type": "code",
        "id": "1fPuwHEnVIzn",
        "colab": {}
      },
      "source": [
        "\n",
        "import torch\n",
        "import torch.nn as nn\n",
        "import torch.optim as optim\n",
        "from torchsummary import summary\n",
        "import numpy as np\n",
        "\n",
        "import spacy\n",
        "\n",
        "import random\n",
        "import math\n",
        "import time\n",
        "\n",
        "from torchtext.datasets import TranslationDataset, Multi30k #WMT14, IWSLT\n",
        "from torchtext.data import Field, BucketIterator\n",
        "\n",
        "import torch.nn.functional as F"
      ],
      "execution_count": 0,
      "outputs": []
    },
    {
      "cell_type": "code",
      "metadata": {
        "colab_type": "code",
        "id": "uQSnhb84VLU7",
        "colab": {}
      },
      "source": [
        "seed = 43\n",
        "\n",
        "random.seed(seed)\n",
        "torch.manual_seed(seed)\n",
        "np.random.seed(seed)\n",
        "torch.backends.cudnn.deterministic = True\n",
        "\n",
        "device = torch.device('cuda' if torch.cuda.is_available() else 'cpu')"
      ],
      "execution_count": 0,
      "outputs": []
    },
    {
      "cell_type": "code",
      "metadata": {
        "colab_type": "code",
        "id": "L10vdpVaVXBo",
        "outputId": "3ea42bd5-b762-4b04-d342-37441850f445",
        "colab": {
          "base_uri": "https://localhost:8080/",
          "height": 944
        }
      },
      "source": [
        "! python -m spacy download en\n",
        "! python -m spacy download de\n",
        "\n",
        "\n",
        "spacy_de = spacy.load('de')\n",
        "spacy_en = spacy.load('en')"
      ],
      "execution_count": 54,
      "outputs": [
        {
          "output_type": "stream",
          "text": [
            "Requirement already satisfied: en_core_web_sm==2.2.5 from https://github.com/explosion/spacy-models/releases/download/en_core_web_sm-2.2.5/en_core_web_sm-2.2.5.tar.gz#egg=en_core_web_sm==2.2.5 in /usr/local/lib/python3.6/dist-packages (2.2.5)\n",
            "Requirement already satisfied: spacy>=2.2.2 in /usr/local/lib/python3.6/dist-packages (from en_core_web_sm==2.2.5) (2.2.4)\n",
            "Requirement already satisfied: preshed<3.1.0,>=3.0.2 in /usr/local/lib/python3.6/dist-packages (from spacy>=2.2.2->en_core_web_sm==2.2.5) (3.0.2)\n",
            "Requirement already satisfied: catalogue<1.1.0,>=0.0.7 in /usr/local/lib/python3.6/dist-packages (from spacy>=2.2.2->en_core_web_sm==2.2.5) (1.0.0)\n",
            "Requirement already satisfied: thinc==7.4.0 in /usr/local/lib/python3.6/dist-packages (from spacy>=2.2.2->en_core_web_sm==2.2.5) (7.4.0)\n",
            "Requirement already satisfied: tqdm<5.0.0,>=4.38.0 in /usr/local/lib/python3.6/dist-packages (from spacy>=2.2.2->en_core_web_sm==2.2.5) (4.38.0)\n",
            "Requirement already satisfied: blis<0.5.0,>=0.4.0 in /usr/local/lib/python3.6/dist-packages (from spacy>=2.2.2->en_core_web_sm==2.2.5) (0.4.1)\n",
            "Requirement already satisfied: cymem<2.1.0,>=2.0.2 in /usr/local/lib/python3.6/dist-packages (from spacy>=2.2.2->en_core_web_sm==2.2.5) (2.0.3)\n",
            "Requirement already satisfied: srsly<1.1.0,>=1.0.2 in /usr/local/lib/python3.6/dist-packages (from spacy>=2.2.2->en_core_web_sm==2.2.5) (1.0.2)\n",
            "Requirement already satisfied: wasabi<1.1.0,>=0.4.0 in /usr/local/lib/python3.6/dist-packages (from spacy>=2.2.2->en_core_web_sm==2.2.5) (0.6.0)\n",
            "Requirement already satisfied: setuptools in /usr/local/lib/python3.6/dist-packages (from spacy>=2.2.2->en_core_web_sm==2.2.5) (46.1.3)\n",
            "Requirement already satisfied: numpy>=1.15.0 in /usr/local/lib/python3.6/dist-packages (from spacy>=2.2.2->en_core_web_sm==2.2.5) (1.18.2)\n",
            "Requirement already satisfied: plac<1.2.0,>=0.9.6 in /usr/local/lib/python3.6/dist-packages (from spacy>=2.2.2->en_core_web_sm==2.2.5) (1.1.3)\n",
            "Requirement already satisfied: murmurhash<1.1.0,>=0.28.0 in /usr/local/lib/python3.6/dist-packages (from spacy>=2.2.2->en_core_web_sm==2.2.5) (1.0.2)\n",
            "Requirement already satisfied: requests<3.0.0,>=2.13.0 in /usr/local/lib/python3.6/dist-packages (from spacy>=2.2.2->en_core_web_sm==2.2.5) (2.21.0)\n",
            "Requirement already satisfied: importlib-metadata>=0.20; python_version < \"3.8\" in /usr/local/lib/python3.6/dist-packages (from catalogue<1.1.0,>=0.0.7->spacy>=2.2.2->en_core_web_sm==2.2.5) (1.6.0)\n",
            "Requirement already satisfied: chardet<3.1.0,>=3.0.2 in /usr/local/lib/python3.6/dist-packages (from requests<3.0.0,>=2.13.0->spacy>=2.2.2->en_core_web_sm==2.2.5) (3.0.4)\n",
            "Requirement already satisfied: idna<2.9,>=2.5 in /usr/local/lib/python3.6/dist-packages (from requests<3.0.0,>=2.13.0->spacy>=2.2.2->en_core_web_sm==2.2.5) (2.8)\n",
            "Requirement already satisfied: urllib3<1.25,>=1.21.1 in /usr/local/lib/python3.6/dist-packages (from requests<3.0.0,>=2.13.0->spacy>=2.2.2->en_core_web_sm==2.2.5) (1.24.3)\n",
            "Requirement already satisfied: certifi>=2017.4.17 in /usr/local/lib/python3.6/dist-packages (from requests<3.0.0,>=2.13.0->spacy>=2.2.2->en_core_web_sm==2.2.5) (2020.4.5.1)\n",
            "Requirement already satisfied: zipp>=0.5 in /usr/local/lib/python3.6/dist-packages (from importlib-metadata>=0.20; python_version < \"3.8\"->catalogue<1.1.0,>=0.0.7->spacy>=2.2.2->en_core_web_sm==2.2.5) (3.1.0)\n",
            "\u001b[38;5;2m✔ Download and installation successful\u001b[0m\n",
            "You can now load the model via spacy.load('en_core_web_sm')\n",
            "\u001b[38;5;2m✔ Linking successful\u001b[0m\n",
            "/usr/local/lib/python3.6/dist-packages/en_core_web_sm -->\n",
            "/usr/local/lib/python3.6/dist-packages/spacy/data/en\n",
            "You can now load the model via spacy.load('en')\n",
            "Requirement already satisfied: de_core_news_sm==2.2.5 from https://github.com/explosion/spacy-models/releases/download/de_core_news_sm-2.2.5/de_core_news_sm-2.2.5.tar.gz#egg=de_core_news_sm==2.2.5 in /usr/local/lib/python3.6/dist-packages (2.2.5)\n",
            "Requirement already satisfied: spacy>=2.2.2 in /usr/local/lib/python3.6/dist-packages (from de_core_news_sm==2.2.5) (2.2.4)\n",
            "Requirement already satisfied: numpy>=1.15.0 in /usr/local/lib/python3.6/dist-packages (from spacy>=2.2.2->de_core_news_sm==2.2.5) (1.18.2)\n",
            "Requirement already satisfied: thinc==7.4.0 in /usr/local/lib/python3.6/dist-packages (from spacy>=2.2.2->de_core_news_sm==2.2.5) (7.4.0)\n",
            "Requirement already satisfied: tqdm<5.0.0,>=4.38.0 in /usr/local/lib/python3.6/dist-packages (from spacy>=2.2.2->de_core_news_sm==2.2.5) (4.38.0)\n",
            "Requirement already satisfied: cymem<2.1.0,>=2.0.2 in /usr/local/lib/python3.6/dist-packages (from spacy>=2.2.2->de_core_news_sm==2.2.5) (2.0.3)\n",
            "Requirement already satisfied: catalogue<1.1.0,>=0.0.7 in /usr/local/lib/python3.6/dist-packages (from spacy>=2.2.2->de_core_news_sm==2.2.5) (1.0.0)\n",
            "Requirement already satisfied: plac<1.2.0,>=0.9.6 in /usr/local/lib/python3.6/dist-packages (from spacy>=2.2.2->de_core_news_sm==2.2.5) (1.1.3)\n",
            "Requirement already satisfied: preshed<3.1.0,>=3.0.2 in /usr/local/lib/python3.6/dist-packages (from spacy>=2.2.2->de_core_news_sm==2.2.5) (3.0.2)\n",
            "Requirement already satisfied: wasabi<1.1.0,>=0.4.0 in /usr/local/lib/python3.6/dist-packages (from spacy>=2.2.2->de_core_news_sm==2.2.5) (0.6.0)\n",
            "Requirement already satisfied: setuptools in /usr/local/lib/python3.6/dist-packages (from spacy>=2.2.2->de_core_news_sm==2.2.5) (46.1.3)\n",
            "Requirement already satisfied: requests<3.0.0,>=2.13.0 in /usr/local/lib/python3.6/dist-packages (from spacy>=2.2.2->de_core_news_sm==2.2.5) (2.21.0)\n",
            "Requirement already satisfied: blis<0.5.0,>=0.4.0 in /usr/local/lib/python3.6/dist-packages (from spacy>=2.2.2->de_core_news_sm==2.2.5) (0.4.1)\n",
            "Requirement already satisfied: murmurhash<1.1.0,>=0.28.0 in /usr/local/lib/python3.6/dist-packages (from spacy>=2.2.2->de_core_news_sm==2.2.5) (1.0.2)\n",
            "Requirement already satisfied: srsly<1.1.0,>=1.0.2 in /usr/local/lib/python3.6/dist-packages (from spacy>=2.2.2->de_core_news_sm==2.2.5) (1.0.2)\n",
            "Requirement already satisfied: importlib-metadata>=0.20; python_version < \"3.8\" in /usr/local/lib/python3.6/dist-packages (from catalogue<1.1.0,>=0.0.7->spacy>=2.2.2->de_core_news_sm==2.2.5) (1.6.0)\n",
            "Requirement already satisfied: urllib3<1.25,>=1.21.1 in /usr/local/lib/python3.6/dist-packages (from requests<3.0.0,>=2.13.0->spacy>=2.2.2->de_core_news_sm==2.2.5) (1.24.3)\n",
            "Requirement already satisfied: chardet<3.1.0,>=3.0.2 in /usr/local/lib/python3.6/dist-packages (from requests<3.0.0,>=2.13.0->spacy>=2.2.2->de_core_news_sm==2.2.5) (3.0.4)\n",
            "Requirement already satisfied: idna<2.9,>=2.5 in /usr/local/lib/python3.6/dist-packages (from requests<3.0.0,>=2.13.0->spacy>=2.2.2->de_core_news_sm==2.2.5) (2.8)\n",
            "Requirement already satisfied: certifi>=2017.4.17 in /usr/local/lib/python3.6/dist-packages (from requests<3.0.0,>=2.13.0->spacy>=2.2.2->de_core_news_sm==2.2.5) (2020.4.5.1)\n",
            "Requirement already satisfied: zipp>=0.5 in /usr/local/lib/python3.6/dist-packages (from importlib-metadata>=0.20; python_version < \"3.8\"->catalogue<1.1.0,>=0.0.7->spacy>=2.2.2->de_core_news_sm==2.2.5) (3.1.0)\n",
            "\u001b[38;5;2m✔ Download and installation successful\u001b[0m\n",
            "You can now load the model via spacy.load('de_core_news_sm')\n",
            "\u001b[38;5;2m✔ Linking successful\u001b[0m\n",
            "/usr/local/lib/python3.6/dist-packages/de_core_news_sm -->\n",
            "/usr/local/lib/python3.6/dist-packages/spacy/data/de\n",
            "You can now load the model via spacy.load('de')\n"
          ],
          "name": "stdout"
        }
      ]
    },
    {
      "cell_type": "code",
      "metadata": {
        "colab_type": "code",
        "id": "ferOqkOUVirW",
        "colab": {}
      },
      "source": [
        "def tokenize_de(text):\n",
        "    \"\"\"\n",
        "    Tokenizes German text from a string into a list of strings (tokens) and reverses it\n",
        "    \"\"\"\n",
        "    return [tok.text for tok in spacy_de.tokenizer(text)][::-1]\n",
        "\n",
        "def tokenize_en(text):\n",
        "    \"\"\"\n",
        "    Tokenizes English text from a string into a list of strings (tokens)\n",
        "    \"\"\"\n",
        "    return [tok.text for tok in spacy_en.tokenizer(text)]\n",
        "\n",
        "# немецкий язык является полем SRC, а английский в поле TRG\n",
        "SRC = Field(tokenize = tokenize_de, \n",
        "            init_token = '<sos>', \n",
        "            eos_token = '<eos>', \n",
        "            lower = True)\n",
        "\n",
        "TRG = Field(tokenize = tokenize_en, \n",
        "            init_token = '<sos>', \n",
        "            eos_token = '<eos>', \n",
        "            lower = True)"
      ],
      "execution_count": 0,
      "outputs": []
    },
    {
      "cell_type": "code",
      "metadata": {
        "colab_type": "code",
        "id": "u6pNY6cWW3j5",
        "colab": {}
      },
      "source": [
        "# В датасете содержится ~ 30к предложений средняя длина которых 11\n",
        "train_data, valid_data, test_data = Multi30k.splits(exts = ('.de', '.en'),  fields = (SRC, TRG))"
      ],
      "execution_count": 0,
      "outputs": []
    },
    {
      "cell_type": "markdown",
      "metadata": {
        "colab_type": "text",
        "id": "iOS3e7QZbLro"
      },
      "source": [
        "Давайте посмотрим что у нас с датасетом и сделаем словари для SRC и TGT"
      ]
    },
    {
      "cell_type": "code",
      "metadata": {
        "colab_type": "code",
        "id": "r0Xpf4IBW4Uf",
        "outputId": "a5dc367c-37c1-432f-a413-c74cbe514ec9",
        "colab": {
          "base_uri": "https://localhost:8080/",
          "height": 67
        }
      },
      "source": [
        "labels = ['train', 'validation', 'test']\n",
        "dataloaders = [train_data, valid_data, test_data]\n",
        "for d, l in zip(dataloaders, labels):\n",
        "    print(\"Number of sentences in {} : {}\".format(l, len(d.examples)))\n"
      ],
      "execution_count": 57,
      "outputs": [
        {
          "output_type": "stream",
          "text": [
            "Number of sentences in train : 29000\n",
            "Number of sentences in validation : 1014\n",
            "Number of sentences in test : 1000\n"
          ],
          "name": "stdout"
        }
      ]
    },
    {
      "cell_type": "code",
      "metadata": {
        "colab_type": "code",
        "id": "Gg63m8haW4XC",
        "outputId": "22658588-5ada-4bdf-cc0b-43d1eecdec39",
        "colab": {
          "base_uri": "https://localhost:8080/",
          "height": 50
        }
      },
      "source": [
        "SRC.build_vocab(train_data, min_freq = 2)\n",
        "TRG.build_vocab(train_data, min_freq = 2)\n",
        "print(\"Number of words in source vocabulary\", len(SRC.vocab))\n",
        "print(\"Number of words in source vocabulary\", len(TRG.vocab))"
      ],
      "execution_count": 58,
      "outputs": [
        {
          "output_type": "stream",
          "text": [
            "Number of words in source vocabulary 7855\n",
            "Number of words in source vocabulary 5893\n"
          ],
          "name": "stdout"
        }
      ]
    },
    {
      "cell_type": "markdown",
      "metadata": {
        "colab_type": "text",
        "id": "LSd3la5FbJ5_"
      },
      "source": [
        "## Encoder\n",
        "\n",
        "Энкодер будет ровно как в семинаре, с кдинственным изменением -- forward будет возвращать не только hidden, cell, но еще и outputs. Это нужно (надеюсь, вы уже поняли) для использования attention в декодере"
      ]
    },
    {
      "cell_type": "code",
      "metadata": {
        "colab_type": "code",
        "id": "_Ar5SN6tW4ck",
        "colab": {}
      },
      "source": [
        "from torch.nn.utils.rnn import pack_padded_sequence, pad_packed_sequence #попробовать эти методы\n",
        "\n",
        "class Encoder(nn.Module):\n",
        "    def __init__(self, input_dim, emb_dim, hid_dim, n_layers, dropout, bidirectional = False):\n",
        "        \"\"\"\n",
        "        :param: input_dim is the size/dimensionality of the one-hot vectors that will be input to the encoder. This is equal to the input (source) vocabulary size.\n",
        "        :param: emb_dim is the dimensionality of the embedding layer. This layer converts the one-hot vectors into dense vectors with emb_dim dimensions.\n",
        "        :param: hid_dim is the dimensionality of the hidden and cell states.\n",
        "        :param: n_layers is the number of layers in the RNN.\n",
        "        :param: percentage of the dropout to use\n",
        "        \n",
        "        \"\"\"\n",
        "        super().__init__()\n",
        "        \n",
        "        self.input_dim = input_dim\n",
        "        self.emb_dim = emb_dim\n",
        "        self.hid_dim = hid_dim\n",
        "        self.n_layers = n_layers\n",
        "\n",
        "        self.embedding = nn.Embedding(input_dim, emb_dim)\n",
        " \n",
        "        self.rnn = nn.LSTM(input_size=emb_dim, num_layers = n_layers, hidden_size=hid_dim, bidirectional = bidirectional) #попробовать поменять на lstm или gru\n",
        "                                                                                           #не забывать про bidirectional\n",
        "        self.dropout = nn.Dropout(dropout)\n",
        "        \n",
        "    def forward(self, src):\n",
        "        \"\"\"\n",
        "        :param: src sentences (src_len x batch_size)\n",
        "        \"\"\"\n",
        "        # embedded = <TODO> (src_len x batch_size x embd_dim)\n",
        "        embedded = self.embedding(src)\n",
        "        # dropout over embedding\n",
        "        embedded = self.dropout(embedded)\n",
        "        outputs, (hidden, cell) = self.rnn(embedded)\n",
        "        # [Attention return is for lstm, but you can also use gru]\n",
        "        return outputs, hidden, cell"
      ],
      "execution_count": 0,
      "outputs": []
    },
    {
      "cell_type": "code",
      "metadata": {
        "id": "TCn8Ncew8_i3",
        "colab_type": "code",
        "colab": {
          "base_uri": "https://localhost:8080/",
          "height": 34
        },
        "outputId": "f1b3ec8b-316f-4517-af74-108474fd35d4"
      },
      "source": [
        "a = torch.tensor([[1,2,3], [1,2,0], [1,0,0]])\n",
        "pack_padded_sequence(a, [3,2,1])"
      ],
      "execution_count": 22,
      "outputs": [
        {
          "output_type": "execute_result",
          "data": {
            "text/plain": [
              "PackedSequence(data=tensor([1, 2, 3, 1, 2, 1]), batch_sizes=tensor([3, 2, 1]), sorted_indices=None, unsorted_indices=None)"
            ]
          },
          "metadata": {
            "tags": []
          },
          "execution_count": 22
        }
      ]
    },
    {
      "cell_type": "markdown",
      "metadata": {
        "colab_type": "text",
        "id": "-8QOCpKxfD3M"
      },
      "source": [
        "## Decoder\n",
        "Оп ля, а тут уже что-то новенькое\n",
        "\n",
        "Мы будем реализовывать attention, который будет смотреть из tgt в src (НЕ self-attention). \n",
        "\n",
        "Определим два класса -- Attention и DecoderAttn. Мы разбили их на два класса, чтобы можно было играться с типом внимания, не меняя код DecoderAttn. Как вы помните с лекции, в качестве аттеншена можно брать любую странную функцию (конкатенация, маленькая сеточка, ...), и все будет работать! Поэтому вам предлагается попробовать несколько разных.\n",
        "\n",
        "\n",
        "---------------------\n",
        "Есть два подхода к реализации аттеншена:\n",
        "\n",
        "Подход #1:\n",
        "\n",
        "1. Вычисляется embed\n",
        "2. На основе hidden c прошлого шага, embedded и (возможно) enc_out вычисляется attention, а точнее, веса attention (поэтому не забудьте softmax!!). Размерность batch_size * max_len, max_len -- максимальная длина предложения в батче, т.е. shape[0] от выхода энкодера.\n",
        "3. К enc_out применяется attention: чаще всего dot product от enc_out и attention_weights (не забудьте про измерение батч. Чтобы нормально вычислить dot_product по батчу, вам поможет torch.bmm)\n",
        "4. Берутся attention и embedded и сворачиваются в один вектор размерности такой, чтобы кормить его self.lstm. Например, это можно сделать с помощью обычного линейного слоя\n",
        "5. Вычисляется новое скрытое состояние new_hidden. Это наша self.lstm, примененная к выходу пункта 4.\n",
        "6. Вычисляется prediction, как в семинаре\n",
        "\n",
        "Грубо говоря, вся разница с семинаром в том, что мы вместо того, чтобы embedded пихать в self.lstm, миксуем аттэншен на основе всего, что имеем (enc_out, hidden, embedded) и запихиваем в self.lstm микс аттэншена и embedded.\n",
        "\n",
        "![alt text](https://i.imgur.com/cmkRY0r.png)\n",
        "\n",
        "\n",
        "Подход #2:\n",
        "\n",
        "1. Вычисляется embed\n",
        "2. Вычисляется output, new_hidden (строчка output, (hidden, cell) = self.rnn(embedded, (hidden, cell)))\n",
        "3. На основе output и enc_out вычисляется attention, а точнее, веса attention (поэтому не забудьте softmax!!)\n",
        "3. К enc_out применяется attention: чаще всего dot product от enc_out и attention_weights (не забудьте про измерение батч. Чтобы нормально вычислить dot_product по батчу, вам поможет torch.bmm)\n",
        "4. Вычисляется prediction на основе attention и output. Можно, например, взять nn.Linear() от конкатенации attention и output.\n",
        "\n",
        "Разница с первым подходом в том, что мы сначала вычисляем выход rnn слоя, а потом смотрим вниманием на src и на основе выхода rnn и attn считаем выход (prediction). \n",
        "\n",
        "![alt text](https://i.imgur.com/5aWjQWv.png)\n",
        "\n",
        "\n",
        "Вам предлагается реализовать хотя бы 1 из вариантов и хотя бы 2 варианта функции attention (в классе Attention)\n"
      ]
    },
    {
      "cell_type": "markdown",
      "metadata": {
        "id": "jfCmVyZVR_d9",
        "colab_type": "text"
      },
      "source": [
        "**Attention метод 1**"
      ]
    },
    {
      "cell_type": "code",
      "metadata": {
        "id": "RBopKuSLR-68",
        "colab_type": "code",
        "colab": {}
      },
      "source": [
        "class Attention(nn.Module):\n",
        "    def __init__(self,n_layers,hid_dim,device, method=\"one-layer-net\", bidirectional = False): # add parameters needed for your type of attention\n",
        "        super(Attention, self).__init__()\n",
        "        self.method = method # attention method you'll use. e.g. \"cat\", \"one-layer-net\", \"dot\", ...\n",
        "        self.linear = nn.Linear(2*hid_dim*(bidirectional+1), 1)\n",
        "        self.linear_hidden = nn.Linear(n_layers*hid_dim*(bidirectional+1), hid_dim*(bidirectional+1))\n",
        "        self.bidirectional = bidirectional\n",
        "        self.hid_dim = hid_dim\n",
        "        self.device = device\n",
        "        self.n_layers = n_layers #1 или 2 слоя\n",
        "        \n",
        "    def forward(self, last_hidden, embedding, seq_len=None):\n",
        "        if self.n_layers > 1:\n",
        "          last_hidden = last_hidden[-self.n_layers*(1+self.bidirectional):]\n",
        "          curr = last_hidden[0]\n",
        "          for i in range(1, self.n_layers*(1+self.bidirectional)):\n",
        "            hidden = torch.cat((curr,last_hidden[i]), dim = -1)\n",
        "            curr = hidden\n",
        "          last_hidden = torch.tanh(self.linear_hidden(curr))\n",
        "\n",
        "        else:\n",
        "          last_hidden = last_hidden[-(1+self.bidirectional):]\n",
        "          if self.bidirectional:\n",
        "            last_hidden = torch.cat((last_hidden[0],last_hidden[1]), dim = -1)\n",
        "\n",
        "        if self.method == 'one-layer-net':\n",
        "          \"\"\"input = torch.zeros((encoder_outputs.shape[0], encoder_outputs.shape[1], 1)).to(self.device)#переделать, размер батча не всегда одинаковый\n",
        "          for ix in range(len(encoder_outputs)):\n",
        "            input[ix] = self.linear(torch.cat((encoder_outputs[ix], last_hidden), dim = -1))\"\"\"\n",
        "          input = self.linear(torch.cat((embedding, last_hidden), dim = -1)) #(seq_len, batch, input_size), (1, batch, hid_dim*(bidirectional+1))\n",
        "          return F.softmax(torch.tanh(input), dim = 0) #надо еще раз посмотреть потому что веса(1,1,1,1)\n",
        "\n",
        "        elif self.method == 'dot':\n",
        "          input = torch.sum(last_hidden.unsqueeze(0)*embedding, dim = -1).unsqueeze_(-1)\n",
        "          return F.softmax(input, dim = 0)\n",
        "\n",
        "        else:\n",
        "          raise ValueError(self.method, 'method does not exist')\n",
        "        \n",
        "class DecoderAttn(nn.Module):\n",
        "    def __init__(self, output_dim, emb_dim, hid_dim, n_layers, attention, bidirectional = False, dropout=0.1):\n",
        "        super(DecoderAttn, self).__init__()\n",
        "        \n",
        "        self.emb_dim = hid_dim*(bidirectional+1)\n",
        "        self.hid_dim = hid_dim\n",
        "        self.output_dim = output_dim\n",
        "        self.n_layers = n_layers\n",
        "        self.bidirectional = bidirectional\n",
        "        \n",
        "        self.attn = attention # instance of Attention class\n",
        "\n",
        "        # define layers\n",
        "        self.embedding = nn.Embedding(output_dim,hid_dim*(bidirectional+1))\n",
        "        \n",
        "        self.rnn = nn.LSTM(self.emb_dim, hid_dim, n_layers, bidirectional = bidirectional) #(lstm embd, hid, layers, dropout), попробовать gru\n",
        "        self.out = nn.Linear(hid_dim*(bidirectional+1), self.output_dim) # Projection :hid_dim x output_dim\n",
        "        self.linear_embed = nn.Linear(2*self.hid_dim*(1+bidirectional), hid_dim*(bidirectional+1))\n",
        "        self.dropout = nn.Dropout(dropout)\n",
        "        #self.embed_linear = nn.Linear(self.hid_dim*(1+bidirectional) + self.emb_dim, self.hid_dim)\n",
        "\n",
        "        # more layers you'll need for attention\n",
        "        \n",
        "    def forward(self, input, hidden, cell, encoder_output):\n",
        "        # make decoder with attention\n",
        "        # use code from seminar notebook as base and add attention to it\n",
        "        input_ = input.unsqueeze(0)\n",
        "        \n",
        "        # (1 x batch_size x emb_dim)\n",
        "        embedded = self.embedding(input_)# embd over input and dropout \n",
        "        embedded = self.dropout(embedded)\n",
        "\n",
        "        attn_weights = self.attn(hidden, embedded)\n",
        "        new_embed = torch.sum(encoder_output*attn_weights, dim = 0) # (num_layers * num_directions, batch, hidden_size)\n",
        "        #assert hidden.shape == new_hidden.shape\n",
        "        #new_hidden = self.embed_linear(torch.cat((new_hidden, embedded), dim = -1))#для n_layers > 1 наверное придется продублировать 1 ось\n",
        "        #output, (hidden, cell) = self.rnn(embedded, (torch.cat((new_hidden, new_hidden), dim =0) if self.bidirectional else new_hidden, cell)) #сюда надо подавать ((1+bidirectional), batch_size, ...)\n",
        "        new_embed = self.linear_embed(torch.cat((new_embed.unsqueeze(0), embedded), dim=-1))\n",
        "        output, (hidden, cell) = self.rnn(new_embed, (hidden, cell))\n",
        "        prediction = self.out(output.squeeze(0))\n",
        "        return prediction, hidden, cell, attn_weights\n",
        "\n",
        "    def initHidden(self):\n",
        "        return torch.zeros(1, 1, self.hidden_size, device=device)"
      ],
      "execution_count": 0,
      "outputs": []
    },
    {
      "cell_type": "markdown",
      "metadata": {
        "id": "yiw71hH3_O39",
        "colab_type": "text"
      },
      "source": [
        "**Attention метод 2**"
      ]
    },
    {
      "cell_type": "code",
      "metadata": {
        "colab_type": "code",
        "id": "gRgtzaf4bJp6",
        "colab": {}
      },
      "source": [
        "class Attention(nn.Module):\n",
        "    def __init__(self,n_layers,hid_dim,device, method=\"one-layer-net\", bidirectional = False): # add parameters needed for your type of attention\n",
        "        super(Attention, self).__init__()\n",
        "        self.method = method # attention method you'll use. e.g. \"cat\", \"one-layer-net\", \"dot\", ...\n",
        "        self.linear = nn.Linear(2*hid_dim*(bidirectional+1), 1)#попробовать вместо 1 hid_dim\n",
        "        self.linear_hidden = nn.Linear(n_layers*hid_dim*(bidirectional+1), hid_dim*(bidirectional+1))\n",
        "        self.bidirectional = bidirectional\n",
        "        self.hid_dim = hid_dim\n",
        "        self.device = device\n",
        "        self.n_layers = n_layers #1 или 2 слоя\n",
        "        \n",
        "    def forward(self, last_hidden, encoder_outputs, seq_len=None):\n",
        "        if self.n_layers > 1:\n",
        "          last_hidden = last_hidden[-self.n_layers*(1+self.bidirectional):]\n",
        "          curr = last_hidden[0]\n",
        "          for i in range(1, self.n_layers*(1+self.bidirectional)):\n",
        "            hidden = torch.cat((curr,last_hidden[i]), dim = -1)\n",
        "            curr = hidden\n",
        "          last_hidden = torch.tanh(self.linear_hidden(curr)) #попробовать tanh()\n",
        "\n",
        "        else:\n",
        "          last_hidden = last_hidden[-(1+self.bidirectional):]\n",
        "          if self.bidirectional:\n",
        "            last_hidden = torch.cat((last_hidden[0],last_hidden[1]), dim = -1)\n",
        "\n",
        "        if self.method == 'one-layer-net':\n",
        "          \"\"\"input = torch.zeros((encoder_outputs.shape[0], encoder_outputs.shape[1], 1)).to(self.device)#переделать, размер батча не всегда одинаковый\n",
        "          for ix in range(len(encoder_outputs)):\n",
        "            input[ix] = self.linear(torch.cat((encoder_outputs[ix], last_hidden), dim = -1))\"\"\"\n",
        "          input = self.linear(torch.cat((encoder_outputs, last_hidden.repeat(encoder_outputs.shape[0],1).reshape(encoder_outputs.shape)), dim = -1))\n",
        "          return F.softmax(torch.tanh(input), dim = 0) #надо еще раз посмотреть потому что веса(1,1,1,1)\n",
        "\n",
        "        elif self.method == 'dot':\n",
        "          input = torch.sum(last_hidden.unsqueeze(0)*encoder_outputs, dim = -1).unsqueeze_(-1)\n",
        "          return F.softmax(input, dim = 0)\n",
        "\n",
        "        else:\n",
        "          raise ValueError(self.method, 'method does not exist')\n",
        "        \n",
        "class DecoderAttn(nn.Module):\n",
        "    def __init__(self, output_dim, emb_dim, hid_dim, n_layers, attention, bidirectional = False, dropout=0.1):\n",
        "        super(DecoderAttn, self).__init__()\n",
        "        \n",
        "        self.emb_dim = emb_dim\n",
        "        self.hid_dim = hid_dim\n",
        "        self.output_dim = output_dim\n",
        "        self.n_layers = n_layers\n",
        "        self.bidirectional = bidirectional\n",
        "        \n",
        "        self.attn = attention # instance of Attention class\n",
        "\n",
        "        # define layers\n",
        "        self.embedding = nn.Embedding(output_dim,emb_dim)\n",
        "        \n",
        "        self.rnn = nn.LSTM(emb_dim, hid_dim, n_layers, bidirectional = bidirectional) #(lstm embd, hid, layers, dropout), попробовать gru\n",
        "        self.out = nn.Linear(2*self.hid_dim*(1+bidirectional), self.output_dim) # Projection :hid_dim x output_dim\n",
        "        self.dropout = nn.Dropout(dropout)\n",
        "        #self.embed_linear = nn.Linear(self.hid_dim*(1+bidirectional) + self.emb_dim, self.hid_dim)\n",
        "\n",
        "        # more layers you'll need for attention\n",
        "        \n",
        "    def forward(self, input, hidden, cell, encoder_output):\n",
        "        # make decoder with attention\n",
        "        # use code from seminar notebook as base and add attention to it\n",
        "        input_ = input.unsqueeze(0)\n",
        "        \n",
        "        # (1 x batch_size x emb_dim)\n",
        "        embedded = self.embedding(input_)# embd over input and dropout \n",
        "        embedded = self.dropout(embedded)\n",
        "\n",
        "        attn_weights = self.attn(hidden, encoder_output)\n",
        "        new_hidden = torch.sum(encoder_output*attn_weights, dim = 0) # (num_layers * num_directions, batch, hidden_size)\n",
        "        #assert hidden.shape == new_hidden.shape\n",
        "        #new_hidden = self.embed_linear(torch.cat((new_hidden, embedded), dim = -1))#для n_layers > 1 наверное придется продублировать 1 ось\n",
        "        #output, (hidden, cell) = self.rnn(embedded, (torch.cat((new_hidden, new_hidden), dim =0) if self.bidirectional else new_hidden, cell)) #сюда надо подавать ((1+bidirectional), batch_size, ...)\n",
        "        output, (hidden, cell) = self.rnn(embedded, (hidden, cell))\n",
        "        new_hidden = new_hidden.repeat(output.shape[0],1)\n",
        "        new_hidden = new_hidden.reshape(output.shape)\n",
        "        output = torch.cat((new_hidden, output), dim=-1)\n",
        "        prediction = self.out(output.squeeze(0))\n",
        "        return prediction, hidden, cell, attn_weights\n",
        "\n",
        "    def initHidden(self):\n",
        "        return torch.zeros(1, 1, self.hidden_size, device=device)"
      ],
      "execution_count": 0,
      "outputs": []
    },
    {
      "cell_type": "code",
      "metadata": {
        "id": "fIPC03x_meHU",
        "colab_type": "code",
        "outputId": "6597ca18-2813-43db-eacb-2a691d9cc6b5",
        "colab": {
          "base_uri": "https://localhost:8080/",
          "height": 34
        }
      },
      "source": [
        "a = torch.randn(2, 32, 2*30)\n",
        "b = torch.randn(2, 32, 2*30)\n",
        "torch.tanh(a).requires_grad"
      ],
      "execution_count": 147,
      "outputs": [
        {
          "output_type": "execute_result",
          "data": {
            "text/plain": [
              "False"
            ]
          },
          "metadata": {
            "tags": []
          },
          "execution_count": 147
        }
      ]
    },
    {
      "cell_type": "markdown",
      "metadata": {
        "colab_type": "text",
        "id": "UlD7-nusfL86"
      },
      "source": [
        "## Seq2Seq module"
      ]
    },
    {
      "cell_type": "markdown",
      "metadata": {
        "colab_type": "text",
        "id": "HOineJlHpof2"
      },
      "source": [
        "Здесь опять ничего не поменяется кроме того, что энкодер теперь возвращает свой output, а декодер его принимает"
      ]
    },
    {
      "cell_type": "code",
      "metadata": {
        "id": "stX2lXm5YYJf",
        "colab_type": "code",
        "colab": {}
      },
      "source": [
        "BOS_IDX = SRC.vocab.stoi['<sos>']\n",
        "\n",
        "class Seq2Seq(nn.Module):\n",
        "    def __init__(self, encoder, decoder, device):\n",
        "        super().__init__()\n",
        "        # Hidden dimensions of encoder and decoder must be equal\n",
        "        self.encoder = encoder\n",
        "        self.decoder = decoder\n",
        "        self.device = device\n",
        "        self._init_weights() \n",
        "    \n",
        "    def forward(self, src, trg, teacher_forcing_ratio = 0.5):\n",
        "        \"\"\"\n",
        "        :param: src (src_len x batch_size)\n",
        "        :param: tgt\n",
        "        :param: teacher_forcing_ration : if 0.5 then every second token is the ground truth input\n",
        "        \"\"\"\n",
        "        \n",
        "        batch_size = trg.shape[1]\n",
        "        max_len = trg.shape[0]\n",
        "        trg_vocab_size = self.decoder.output_dim\n",
        "        \n",
        "        #tensor to store decoder outputs\n",
        "        outputs = torch.zeros(max_len, batch_size, trg_vocab_size).to(self.device)\n",
        "        \n",
        "        #last hidden state of the encoder is used as the initial hidden state of the decoder\n",
        "        out,hidden, cell = self.encoder(src)\n",
        "        \n",
        "        #first input to the decoder is the <sos> tokens\n",
        "        input = trg[0, :]\n",
        "        \n",
        "        for t in range(1, max_len):\n",
        "            \n",
        "            output, hidden, cell, _ = self.decoder(input, hidden, cell, out) #TODO pass state and input throw decoder \n",
        "            outputs[t] = output\n",
        "            teacher_force = random.random() < teacher_forcing_ratio\n",
        "            top1 = output.max(1)[1]\n",
        "            input = (trg[t] if teacher_force else top1)\n",
        "        \n",
        "        return outputs\n",
        "    \n",
        "    def translate(self, src, input):   \n",
        "\n",
        "        max_len = input.shape[0]\n",
        "        batch_size = input.shape[1]\n",
        "     \n",
        "        outputs = torch.zeros(max_len, batch_size, self.decoder.output_dim).to(self.device)\n",
        "        \n",
        "        #last hidden state of the encoder is used as the initial hidden state of the decoder\n",
        "        src = torch.tensor(src).to(self.device)\n",
        "        out, hidden, cell =  self.encoder(src)# TODO pass src throw encoder\n",
        "        \n",
        "        #first input to the decoder is the <sos> tokens\n",
        "        input = input[0, :]\n",
        "        weights = []\n",
        "        \n",
        "        model.eval()\n",
        "        for t in range(1, max_len):\n",
        "            with torch.no_grad():\n",
        "              output, hidden, cell, weights_ = self.decoder(input, hidden, cell, out) #TODO pass state and input throw decoder \n",
        "            outputs[t] = output\n",
        "            top1 = output.max(1)[1]\n",
        "            input = (top1)\n",
        "            weights.append(weights_)\n",
        "        \n",
        "        return outputs, weights\n",
        "    \n",
        "    def _init_weights(self):\n",
        "        p = 0.08\n",
        "        for name, param in self.named_parameters():\n",
        "            nn.init.uniform_(param.data, -p, p)"
      ],
      "execution_count": 0,
      "outputs": []
    },
    {
      "cell_type": "code",
      "metadata": {
        "colab_type": "code",
        "id": "msbn2VypfUur",
        "colab": {}
      },
      "source": [
        "input_dim = len(SRC.vocab)\n",
        "output_dim = len(TRG.vocab)\n",
        "src_embd_dim =  tgt_embd_dim = 256\n",
        "hidden_dim = 512\n",
        "num_layers =  2\n",
        "dropout_prob = 0.5\n",
        "\n",
        "batch_size = 64\n",
        "PAD_IDX = TRG.vocab.stoi['<pad>']\n",
        "\n",
        "iterators = BucketIterator.splits((train_data, valid_data, test_data),\n",
        "                                  batch_size = batch_size, device = device)\n",
        "train_iterator, valid_iterator, test_iterator = iterators\n",
        "\n",
        "enc = Encoder(input_dim, src_embd_dim, hidden_dim, num_layers, dropout_prob, True)\n",
        "attn = Attention(num_layers, hidden_dim,device, bidirectional=True)#попробовать поиграться с attention\n",
        "dec = DecoderAttn(output_dim, tgt_embd_dim, hidden_dim, num_layers, attn,True, dropout_prob)\n",
        "model = Seq2Seq(enc, dec, device).to(device)"
      ],
      "execution_count": 0,
      "outputs": []
    },
    {
      "cell_type": "code",
      "metadata": {
        "colab_type": "code",
        "id": "h5V9ZnK4fUxq",
        "outputId": "7b786d2d-60f5-4fe1-f9a8-8167cbd486b6",
        "colab": {
          "base_uri": "https://localhost:8080/",
          "height": 319
        }
      },
      "source": [
        "model"
      ],
      "execution_count": 151,
      "outputs": [
        {
          "output_type": "execute_result",
          "data": {
            "text/plain": [
              "Seq2Seq(\n",
              "  (encoder): Encoder(\n",
              "    (embedding): Embedding(7855, 256)\n",
              "    (rnn): LSTM(256, 512, num_layers=2, bidirectional=True)\n",
              "    (dropout): Dropout(p=0.5, inplace=False)\n",
              "  )\n",
              "  (decoder): DecoderAttn(\n",
              "    (attn): Attention(\n",
              "      (linear): Linear(in_features=2048, out_features=1, bias=True)\n",
              "      (linear_hidden): Linear(in_features=2048, out_features=1024, bias=True)\n",
              "    )\n",
              "    (embedding): Embedding(5893, 1024)\n",
              "    (rnn): LSTM(1024, 512, num_layers=2, bidirectional=True)\n",
              "    (out): Linear(in_features=512, out_features=5893, bias=True)\n",
              "    (linear_embed): Linear(in_features=2048, out_features=1024, bias=True)\n",
              "    (dropout): Dropout(p=0.5, inplace=False)\n",
              "  )\n",
              ")"
            ]
          },
          "metadata": {
            "tags": []
          },
          "execution_count": 151
        }
      ]
    },
    {
      "cell_type": "code",
      "metadata": {
        "colab_type": "code",
        "id": "3vaUeDjTfU4k",
        "colab": {}
      },
      "source": [
        "def train(model, iterator, optimizer, criterion, clip):\n",
        "    \n",
        "    model.train()\n",
        "    \n",
        "    epoch_loss = 0\n",
        "    \n",
        "    for i, batch in enumerate(iterator):\n",
        "        \n",
        "        src = batch.src\n",
        "        trg = batch.trg\n",
        "        \n",
        "        optimizer.zero_grad()\n",
        "        \n",
        "        output= model(src, trg)\n",
        "        \n",
        "        \n",
        "        output = output[1:].view(-1, output.shape[-1])\n",
        "        trg = trg[1:].view(-1)\n",
        "        \n",
        "        loss = criterion(output, trg)\n",
        "        \n",
        "        loss.backward()\n",
        "        \n",
        "        torch.nn.utils.clip_grad_norm_(model.parameters(), clip)\n",
        "        \n",
        "        optimizer.step()\n",
        "        \n",
        "        epoch_loss += loss.item()\n",
        "        \n",
        "    return epoch_loss / len(iterator)"
      ],
      "execution_count": 0,
      "outputs": []
    },
    {
      "cell_type": "code",
      "metadata": {
        "colab_type": "code",
        "id": "HfbTx2FMjaIM",
        "colab": {}
      },
      "source": [
        "def evaluate(model, iterator, criterion):\n",
        "    \n",
        "    model.eval()\n",
        "    \n",
        "    epoch_loss = 0\n",
        "    \n",
        "    with torch.no_grad():\n",
        "    \n",
        "        for i, batch in enumerate(iterator):\n",
        "\n",
        "            src = batch.src\n",
        "            trg = batch.trg\n",
        "\n",
        "            output = model(src, trg, 0) #turn off teacher forcing !!\n",
        "            output = output[1:].view(-1, output.shape[-1])\n",
        "            trg = trg[1:].view(-1)\n",
        "\n",
        "\n",
        "            loss = criterion(output, trg)\n",
        "            \n",
        "            epoch_loss += loss.item()\n",
        "        \n",
        "    return epoch_loss / len(iterator)"
      ],
      "execution_count": 0,
      "outputs": []
    },
    {
      "cell_type": "code",
      "metadata": {
        "id": "d40KW2NYCMFb",
        "colab_type": "code",
        "colab": {}
      },
      "source": [
        "#import telegram_send\n",
        "#!telegram-send --configure"
      ],
      "execution_count": 0,
      "outputs": []
    },
    {
      "cell_type": "code",
      "metadata": {
        "colab_type": "code",
        "id": "lQV_yqkLjcyQ",
        "colab": {
          "base_uri": "https://localhost:8080/",
          "height": 390
        },
        "outputId": "0db2ae56-e28a-4256-b0d1-1435d35fdb0f"
      },
      "source": [
        "from IPython.display import clear_output\n",
        "import matplotlib.pyplot as plt\n",
        "\n",
        "max_epochs = 30\n",
        "CLIP = 1\n",
        "\n",
        "# TODO\n",
        "optimizer = optim.Adam(model.parameters(), weight_decay = 1e-4)\n",
        "criterion = nn.CrossEntropyLoss(ignore_index = PAD_IDX)\n",
        "scheduler = optim.lr_scheduler.StepLR(optimizer, 3, gamma=0.5)\n",
        "\n",
        "best_valid_loss = float('inf')\n",
        "history_val = []\n",
        "history_train = []\n",
        "\n",
        "for epoch in range(max_epochs):\n",
        "    \n",
        "    \n",
        "    train_loss = round(train(model, train_iterator, optimizer, criterion, CLIP), 5)\n",
        "    valid_loss = round(evaluate(model, valid_iterator, criterion),5)\n",
        "    history_val.append(valid_loss)\n",
        "    history_train.append(train_loss)\n",
        "    \n",
        "    if valid_loss < best_valid_loss:\n",
        "        best_valid_loss = valid_loss\n",
        "        torch.save(model.state_dict(), 'model_one_layer_4layer_bid.pt')\n",
        "    \n",
        "    scheduler.step()\n",
        "\n",
        "    clear_output(True)\n",
        "    plt.plot(history_train, label = 'train_loss')\n",
        "    plt.plot(history_val, label = 'valid_loss')\n",
        "    \"\"\"plt.savefig('image.jpg')\n",
        "    !telegram-send --image image.jpg \"\"\"\n",
        "    plt.show()\n",
        "\n",
        "    print('Epoch: {} \\n Train Loss {}  Val loss {}:'.format(epoch, train_loss, valid_loss))\n",
        "    print('Train Perplexity {}  Val Perplexity {}:'.format(np.exp(train_loss), np.exp(valid_loss)))\n",
        "#!telegram-send 'done'"
      ],
      "execution_count": 174,
      "outputs": [
        {
          "output_type": "error",
          "ename": "RuntimeError",
          "evalue": "ignored",
          "traceback": [
            "\u001b[0;31m---------------------------------------------------------------------------\u001b[0m",
            "\u001b[0;31mRuntimeError\u001b[0m                              Traceback (most recent call last)",
            "\u001b[0;32m<ipython-input-174-aad194b8275a>\u001b[0m in \u001b[0;36m<module>\u001b[0;34m()\u001b[0m\n\u001b[1;32m     17\u001b[0m \u001b[0;34m\u001b[0m\u001b[0m\n\u001b[1;32m     18\u001b[0m \u001b[0;34m\u001b[0m\u001b[0m\n\u001b[0;32m---> 19\u001b[0;31m     \u001b[0mtrain_loss\u001b[0m \u001b[0;34m=\u001b[0m \u001b[0mround\u001b[0m\u001b[0;34m(\u001b[0m\u001b[0mtrain\u001b[0m\u001b[0;34m(\u001b[0m\u001b[0mmodel\u001b[0m\u001b[0;34m,\u001b[0m \u001b[0mtrain_iterator\u001b[0m\u001b[0;34m,\u001b[0m \u001b[0moptimizer\u001b[0m\u001b[0;34m,\u001b[0m \u001b[0mcriterion\u001b[0m\u001b[0;34m,\u001b[0m \u001b[0mCLIP\u001b[0m\u001b[0;34m)\u001b[0m\u001b[0;34m,\u001b[0m \u001b[0;36m5\u001b[0m\u001b[0;34m)\u001b[0m\u001b[0;34m\u001b[0m\u001b[0;34m\u001b[0m\u001b[0m\n\u001b[0m\u001b[1;32m     20\u001b[0m     \u001b[0mvalid_loss\u001b[0m \u001b[0;34m=\u001b[0m \u001b[0mround\u001b[0m\u001b[0;34m(\u001b[0m\u001b[0mevaluate\u001b[0m\u001b[0;34m(\u001b[0m\u001b[0mmodel\u001b[0m\u001b[0;34m,\u001b[0m \u001b[0mvalid_iterator\u001b[0m\u001b[0;34m,\u001b[0m \u001b[0mcriterion\u001b[0m\u001b[0;34m)\u001b[0m\u001b[0;34m,\u001b[0m\u001b[0;36m5\u001b[0m\u001b[0;34m)\u001b[0m\u001b[0;34m\u001b[0m\u001b[0;34m\u001b[0m\u001b[0m\n\u001b[1;32m     21\u001b[0m     \u001b[0mhistory_val\u001b[0m\u001b[0;34m.\u001b[0m\u001b[0mappend\u001b[0m\u001b[0;34m(\u001b[0m\u001b[0mvalid_loss\u001b[0m\u001b[0;34m)\u001b[0m\u001b[0;34m\u001b[0m\u001b[0;34m\u001b[0m\u001b[0m\n",
            "\u001b[0;32m<ipython-input-163-c00393fe03bd>\u001b[0m in \u001b[0;36mtrain\u001b[0;34m(model, iterator, optimizer, criterion, clip)\u001b[0m\n\u001b[1;32m     12\u001b[0m         \u001b[0moptimizer\u001b[0m\u001b[0;34m.\u001b[0m\u001b[0mzero_grad\u001b[0m\u001b[0;34m(\u001b[0m\u001b[0;34m)\u001b[0m\u001b[0;34m\u001b[0m\u001b[0;34m\u001b[0m\u001b[0m\n\u001b[1;32m     13\u001b[0m \u001b[0;34m\u001b[0m\u001b[0m\n\u001b[0;32m---> 14\u001b[0;31m         \u001b[0moutput\u001b[0m\u001b[0;34m=\u001b[0m \u001b[0mmodel\u001b[0m\u001b[0;34m(\u001b[0m\u001b[0msrc\u001b[0m\u001b[0;34m,\u001b[0m \u001b[0mtrg\u001b[0m\u001b[0;34m)\u001b[0m\u001b[0;34m\u001b[0m\u001b[0;34m\u001b[0m\u001b[0m\n\u001b[0m\u001b[1;32m     15\u001b[0m \u001b[0;34m\u001b[0m\u001b[0m\n\u001b[1;32m     16\u001b[0m \u001b[0;34m\u001b[0m\u001b[0m\n",
            "\u001b[0;32m/usr/local/lib/python3.6/dist-packages/torch/nn/modules/module.py\u001b[0m in \u001b[0;36m__call__\u001b[0;34m(self, *input, **kwargs)\u001b[0m\n\u001b[1;32m    530\u001b[0m             \u001b[0mresult\u001b[0m \u001b[0;34m=\u001b[0m \u001b[0mself\u001b[0m\u001b[0;34m.\u001b[0m\u001b[0m_slow_forward\u001b[0m\u001b[0;34m(\u001b[0m\u001b[0;34m*\u001b[0m\u001b[0minput\u001b[0m\u001b[0;34m,\u001b[0m \u001b[0;34m**\u001b[0m\u001b[0mkwargs\u001b[0m\u001b[0;34m)\u001b[0m\u001b[0;34m\u001b[0m\u001b[0;34m\u001b[0m\u001b[0m\n\u001b[1;32m    531\u001b[0m         \u001b[0;32melse\u001b[0m\u001b[0;34m:\u001b[0m\u001b[0;34m\u001b[0m\u001b[0;34m\u001b[0m\u001b[0m\n\u001b[0;32m--> 532\u001b[0;31m             \u001b[0mresult\u001b[0m \u001b[0;34m=\u001b[0m \u001b[0mself\u001b[0m\u001b[0;34m.\u001b[0m\u001b[0mforward\u001b[0m\u001b[0;34m(\u001b[0m\u001b[0;34m*\u001b[0m\u001b[0minput\u001b[0m\u001b[0;34m,\u001b[0m \u001b[0;34m**\u001b[0m\u001b[0mkwargs\u001b[0m\u001b[0;34m)\u001b[0m\u001b[0;34m\u001b[0m\u001b[0;34m\u001b[0m\u001b[0m\n\u001b[0m\u001b[1;32m    533\u001b[0m         \u001b[0;32mfor\u001b[0m \u001b[0mhook\u001b[0m \u001b[0;32min\u001b[0m \u001b[0mself\u001b[0m\u001b[0;34m.\u001b[0m\u001b[0m_forward_hooks\u001b[0m\u001b[0;34m.\u001b[0m\u001b[0mvalues\u001b[0m\u001b[0;34m(\u001b[0m\u001b[0;34m)\u001b[0m\u001b[0;34m:\u001b[0m\u001b[0;34m\u001b[0m\u001b[0;34m\u001b[0m\u001b[0m\n\u001b[1;32m    534\u001b[0m             \u001b[0mhook_result\u001b[0m \u001b[0;34m=\u001b[0m \u001b[0mhook\u001b[0m\u001b[0;34m(\u001b[0m\u001b[0mself\u001b[0m\u001b[0;34m,\u001b[0m \u001b[0minput\u001b[0m\u001b[0;34m,\u001b[0m \u001b[0mresult\u001b[0m\u001b[0;34m)\u001b[0m\u001b[0;34m\u001b[0m\u001b[0;34m\u001b[0m\u001b[0m\n",
            "\u001b[0;32m<ipython-input-161-787e0cbf7e40>\u001b[0m in \u001b[0;36mforward\u001b[0;34m(self, src, trg, teacher_forcing_ratio)\u001b[0m\n\u001b[1;32m     32\u001b[0m         \u001b[0;32mfor\u001b[0m \u001b[0mt\u001b[0m \u001b[0;32min\u001b[0m \u001b[0mrange\u001b[0m\u001b[0;34m(\u001b[0m\u001b[0;36m1\u001b[0m\u001b[0;34m,\u001b[0m \u001b[0mmax_len\u001b[0m\u001b[0;34m)\u001b[0m\u001b[0;34m:\u001b[0m\u001b[0;34m\u001b[0m\u001b[0;34m\u001b[0m\u001b[0m\n\u001b[1;32m     33\u001b[0m \u001b[0;34m\u001b[0m\u001b[0m\n\u001b[0;32m---> 34\u001b[0;31m             \u001b[0moutput\u001b[0m\u001b[0;34m,\u001b[0m \u001b[0mhidden\u001b[0m\u001b[0;34m,\u001b[0m \u001b[0mcell\u001b[0m\u001b[0;34m,\u001b[0m \u001b[0m_\u001b[0m \u001b[0;34m=\u001b[0m \u001b[0mself\u001b[0m\u001b[0;34m.\u001b[0m\u001b[0mdecoder\u001b[0m\u001b[0;34m(\u001b[0m\u001b[0minput\u001b[0m\u001b[0;34m,\u001b[0m \u001b[0mhidden\u001b[0m\u001b[0;34m,\u001b[0m \u001b[0mcell\u001b[0m\u001b[0;34m,\u001b[0m \u001b[0mout\u001b[0m\u001b[0;34m)\u001b[0m \u001b[0;31m#TODO pass state and input throw decoder\u001b[0m\u001b[0;34m\u001b[0m\u001b[0;34m\u001b[0m\u001b[0m\n\u001b[0m\u001b[1;32m     35\u001b[0m             \u001b[0moutputs\u001b[0m\u001b[0;34m[\u001b[0m\u001b[0mt\u001b[0m\u001b[0;34m]\u001b[0m \u001b[0;34m=\u001b[0m \u001b[0moutput\u001b[0m\u001b[0;34m\u001b[0m\u001b[0;34m\u001b[0m\u001b[0m\n\u001b[1;32m     36\u001b[0m             \u001b[0mteacher_force\u001b[0m \u001b[0;34m=\u001b[0m \u001b[0mrandom\u001b[0m\u001b[0;34m.\u001b[0m\u001b[0mrandom\u001b[0m\u001b[0;34m(\u001b[0m\u001b[0;34m)\u001b[0m \u001b[0;34m<\u001b[0m \u001b[0mteacher_forcing_ratio\u001b[0m\u001b[0;34m\u001b[0m\u001b[0;34m\u001b[0m\u001b[0m\n",
            "\u001b[0;32m/usr/local/lib/python3.6/dist-packages/torch/nn/modules/module.py\u001b[0m in \u001b[0;36m__call__\u001b[0;34m(self, *input, **kwargs)\u001b[0m\n\u001b[1;32m    530\u001b[0m             \u001b[0mresult\u001b[0m \u001b[0;34m=\u001b[0m \u001b[0mself\u001b[0m\u001b[0;34m.\u001b[0m\u001b[0m_slow_forward\u001b[0m\u001b[0;34m(\u001b[0m\u001b[0;34m*\u001b[0m\u001b[0minput\u001b[0m\u001b[0;34m,\u001b[0m \u001b[0;34m**\u001b[0m\u001b[0mkwargs\u001b[0m\u001b[0;34m)\u001b[0m\u001b[0;34m\u001b[0m\u001b[0;34m\u001b[0m\u001b[0m\n\u001b[1;32m    531\u001b[0m         \u001b[0;32melse\u001b[0m\u001b[0;34m:\u001b[0m\u001b[0;34m\u001b[0m\u001b[0;34m\u001b[0m\u001b[0m\n\u001b[0;32m--> 532\u001b[0;31m             \u001b[0mresult\u001b[0m \u001b[0;34m=\u001b[0m \u001b[0mself\u001b[0m\u001b[0;34m.\u001b[0m\u001b[0mforward\u001b[0m\u001b[0;34m(\u001b[0m\u001b[0;34m*\u001b[0m\u001b[0minput\u001b[0m\u001b[0;34m,\u001b[0m \u001b[0;34m**\u001b[0m\u001b[0mkwargs\u001b[0m\u001b[0;34m)\u001b[0m\u001b[0;34m\u001b[0m\u001b[0;34m\u001b[0m\u001b[0m\n\u001b[0m\u001b[1;32m    533\u001b[0m         \u001b[0;32mfor\u001b[0m \u001b[0mhook\u001b[0m \u001b[0;32min\u001b[0m \u001b[0mself\u001b[0m\u001b[0;34m.\u001b[0m\u001b[0m_forward_hooks\u001b[0m\u001b[0;34m.\u001b[0m\u001b[0mvalues\u001b[0m\u001b[0;34m(\u001b[0m\u001b[0;34m)\u001b[0m\u001b[0;34m:\u001b[0m\u001b[0;34m\u001b[0m\u001b[0;34m\u001b[0m\u001b[0m\n\u001b[1;32m    534\u001b[0m             \u001b[0mhook_result\u001b[0m \u001b[0;34m=\u001b[0m \u001b[0mhook\u001b[0m\u001b[0;34m(\u001b[0m\u001b[0mself\u001b[0m\u001b[0;34m,\u001b[0m \u001b[0minput\u001b[0m\u001b[0;34m,\u001b[0m \u001b[0mresult\u001b[0m\u001b[0;34m)\u001b[0m\u001b[0;34m\u001b[0m\u001b[0;34m\u001b[0m\u001b[0m\n",
            "\u001b[0;32m<ipython-input-172-c97c1dadfd5b>\u001b[0m in \u001b[0;36mforward\u001b[0;34m(self, input, hidden, cell, encoder_output)\u001b[0m\n\u001b[1;32m     70\u001b[0m         \u001b[0membedded\u001b[0m \u001b[0;34m=\u001b[0m \u001b[0mself\u001b[0m\u001b[0;34m.\u001b[0m\u001b[0mdropout\u001b[0m\u001b[0;34m(\u001b[0m\u001b[0membedded\u001b[0m\u001b[0;34m)\u001b[0m\u001b[0;34m\u001b[0m\u001b[0;34m\u001b[0m\u001b[0m\n\u001b[1;32m     71\u001b[0m \u001b[0;34m\u001b[0m\u001b[0m\n\u001b[0;32m---> 72\u001b[0;31m         \u001b[0mattn_weights\u001b[0m \u001b[0;34m=\u001b[0m \u001b[0mself\u001b[0m\u001b[0;34m.\u001b[0m\u001b[0mattn\u001b[0m\u001b[0;34m(\u001b[0m\u001b[0mhidden\u001b[0m\u001b[0;34m,\u001b[0m \u001b[0membedded\u001b[0m\u001b[0;34m)\u001b[0m\u001b[0;34m\u001b[0m\u001b[0;34m\u001b[0m\u001b[0m\n\u001b[0m\u001b[1;32m     73\u001b[0m         \u001b[0mnew_embed\u001b[0m \u001b[0;34m=\u001b[0m \u001b[0mtorch\u001b[0m\u001b[0;34m.\u001b[0m\u001b[0msum\u001b[0m\u001b[0;34m(\u001b[0m\u001b[0mencoder_output\u001b[0m\u001b[0;34m*\u001b[0m\u001b[0mattn_weights\u001b[0m\u001b[0;34m,\u001b[0m \u001b[0mdim\u001b[0m \u001b[0;34m=\u001b[0m \u001b[0;36m0\u001b[0m\u001b[0;34m)\u001b[0m \u001b[0;31m# (num_layers * num_directions, batch, hidden_size)\u001b[0m\u001b[0;34m\u001b[0m\u001b[0;34m\u001b[0m\u001b[0m\n\u001b[1;32m     74\u001b[0m         \u001b[0;31m#assert hidden.shape == new_hidden.shape\u001b[0m\u001b[0;34m\u001b[0m\u001b[0;34m\u001b[0m\u001b[0;34m\u001b[0m\u001b[0m\n",
            "\u001b[0;32m/usr/local/lib/python3.6/dist-packages/torch/nn/modules/module.py\u001b[0m in \u001b[0;36m__call__\u001b[0;34m(self, *input, **kwargs)\u001b[0m\n\u001b[1;32m    530\u001b[0m             \u001b[0mresult\u001b[0m \u001b[0;34m=\u001b[0m \u001b[0mself\u001b[0m\u001b[0;34m.\u001b[0m\u001b[0m_slow_forward\u001b[0m\u001b[0;34m(\u001b[0m\u001b[0;34m*\u001b[0m\u001b[0minput\u001b[0m\u001b[0;34m,\u001b[0m \u001b[0;34m**\u001b[0m\u001b[0mkwargs\u001b[0m\u001b[0;34m)\u001b[0m\u001b[0;34m\u001b[0m\u001b[0;34m\u001b[0m\u001b[0m\n\u001b[1;32m    531\u001b[0m         \u001b[0;32melse\u001b[0m\u001b[0;34m:\u001b[0m\u001b[0;34m\u001b[0m\u001b[0;34m\u001b[0m\u001b[0m\n\u001b[0;32m--> 532\u001b[0;31m             \u001b[0mresult\u001b[0m \u001b[0;34m=\u001b[0m \u001b[0mself\u001b[0m\u001b[0;34m.\u001b[0m\u001b[0mforward\u001b[0m\u001b[0;34m(\u001b[0m\u001b[0;34m*\u001b[0m\u001b[0minput\u001b[0m\u001b[0;34m,\u001b[0m \u001b[0;34m**\u001b[0m\u001b[0mkwargs\u001b[0m\u001b[0;34m)\u001b[0m\u001b[0;34m\u001b[0m\u001b[0;34m\u001b[0m\u001b[0m\n\u001b[0m\u001b[1;32m    533\u001b[0m         \u001b[0;32mfor\u001b[0m \u001b[0mhook\u001b[0m \u001b[0;32min\u001b[0m \u001b[0mself\u001b[0m\u001b[0;34m.\u001b[0m\u001b[0m_forward_hooks\u001b[0m\u001b[0;34m.\u001b[0m\u001b[0mvalues\u001b[0m\u001b[0;34m(\u001b[0m\u001b[0;34m)\u001b[0m\u001b[0;34m:\u001b[0m\u001b[0;34m\u001b[0m\u001b[0;34m\u001b[0m\u001b[0m\n\u001b[1;32m    534\u001b[0m             \u001b[0mhook_result\u001b[0m \u001b[0;34m=\u001b[0m \u001b[0mhook\u001b[0m\u001b[0;34m(\u001b[0m\u001b[0mself\u001b[0m\u001b[0;34m,\u001b[0m \u001b[0minput\u001b[0m\u001b[0;34m,\u001b[0m \u001b[0mresult\u001b[0m\u001b[0;34m)\u001b[0m\u001b[0;34m\u001b[0m\u001b[0;34m\u001b[0m\u001b[0m\n",
            "\u001b[0;32m<ipython-input-172-c97c1dadfd5b>\u001b[0m in \u001b[0;36mforward\u001b[0;34m(self, last_hidden, embedding, seq_len)\u001b[0m\n\u001b[1;32m     28\u001b[0m           \u001b[0;32mfor\u001b[0m \u001b[0mix\u001b[0m \u001b[0;32min\u001b[0m \u001b[0mrange\u001b[0m\u001b[0;34m(\u001b[0m\u001b[0mlen\u001b[0m\u001b[0;34m(\u001b[0m\u001b[0mencoder_outputs\u001b[0m\u001b[0;34m)\u001b[0m\u001b[0;34m)\u001b[0m\u001b[0;34m:\u001b[0m\u001b[0;34m\u001b[0m\u001b[0;34m\u001b[0m\u001b[0m\n\u001b[1;32m     29\u001b[0m             input[ix] = self.linear(torch.cat((encoder_outputs[ix], last_hidden), dim = -1))\"\"\"\n\u001b[0;32m---> 30\u001b[0;31m           \u001b[0minput\u001b[0m \u001b[0;34m=\u001b[0m \u001b[0mself\u001b[0m\u001b[0;34m.\u001b[0m\u001b[0mlinear\u001b[0m\u001b[0;34m(\u001b[0m\u001b[0mtorch\u001b[0m\u001b[0;34m.\u001b[0m\u001b[0mcat\u001b[0m\u001b[0;34m(\u001b[0m\u001b[0;34m(\u001b[0m\u001b[0membedding\u001b[0m\u001b[0;34m,\u001b[0m \u001b[0mlast_hidden\u001b[0m\u001b[0;34m)\u001b[0m\u001b[0;34m,\u001b[0m \u001b[0mdim\u001b[0m \u001b[0;34m=\u001b[0m \u001b[0;34m-\u001b[0m\u001b[0;36m1\u001b[0m\u001b[0;34m)\u001b[0m\u001b[0;34m)\u001b[0m \u001b[0;31m#(seq_len, batch, input_size), (1, batch, hid_dim*(bidirectional+1))\u001b[0m\u001b[0;34m\u001b[0m\u001b[0;34m\u001b[0m\u001b[0m\n\u001b[0m\u001b[1;32m     31\u001b[0m           \u001b[0;32mreturn\u001b[0m \u001b[0mF\u001b[0m\u001b[0;34m.\u001b[0m\u001b[0msoftmax\u001b[0m\u001b[0;34m(\u001b[0m\u001b[0mtorch\u001b[0m\u001b[0;34m.\u001b[0m\u001b[0mtanh\u001b[0m\u001b[0;34m(\u001b[0m\u001b[0minput\u001b[0m\u001b[0;34m)\u001b[0m\u001b[0;34m,\u001b[0m \u001b[0mdim\u001b[0m \u001b[0;34m=\u001b[0m \u001b[0;36m0\u001b[0m\u001b[0;34m)\u001b[0m \u001b[0;31m#надо еще раз посмотреть потому что веса(1,1,1,1)\u001b[0m\u001b[0;34m\u001b[0m\u001b[0;34m\u001b[0m\u001b[0m\n\u001b[1;32m     32\u001b[0m \u001b[0;34m\u001b[0m\u001b[0m\n",
            "\u001b[0;31mRuntimeError\u001b[0m: invalid argument 0: Tensors must have same number of dimensions: got 2 and 3 at /pytorch/aten/src/THC/generic/THCTensorMath.cu:62"
          ]
        }
      ]
    },
    {
      "cell_type": "code",
      "metadata": {
        "id": "McAubjZFn5BI",
        "colab_type": "code",
        "outputId": "330a7603-e01d-4f3c-960c-50dd98d917a9",
        "colab": {
          "base_uri": "https://localhost:8080/",
          "height": 34
        }
      },
      "source": [
        "model.load_state_dict(torch.load('model_one_layer_4layer_bid.pt'))"
      ],
      "execution_count": 166,
      "outputs": [
        {
          "output_type": "execute_result",
          "data": {
            "text/plain": [
              "<All keys matched successfully>"
            ]
          },
          "metadata": {
            "tags": []
          },
          "execution_count": 166
        }
      ]
    },
    {
      "cell_type": "code",
      "metadata": {
        "colab_type": "code",
        "id": "n5Zf6Kb1jhOI",
        "outputId": "a333c1e6-b329-44fe-ba31-1cf39bf33e56",
        "colab": {
          "base_uri": "https://localhost:8080/",
          "height": 34
        }
      },
      "source": [
        "test_loss = evaluate(model, test_iterator, criterion)\n",
        "\n",
        "print('| Test Loss: {} Test PPL:{}|'.format(test_loss, np.exp(test_loss)))"
      ],
      "execution_count": 167,
      "outputs": [
        {
          "output_type": "stream",
          "text": [
            "| Test Loss: 3.328218385577202 Test PPL:27.88861066463126|\n"
          ],
          "name": "stdout"
        }
      ]
    },
    {
      "cell_type": "code",
      "metadata": {
        "colab_type": "code",
        "id": "an6HG7_uyjJN",
        "colab": {}
      },
      "source": [
        "EOS_IDX = SRC.vocab.stoi['<eos>']\n",
        "\n",
        "def translate(sentence, max_size = 10):\n",
        "    \"\"\"\n",
        "    function that uses .translate() method of the model to translate german sentence into english\n",
        "    params:\n",
        "        sentence: tokenized gernam sentence\n",
        "    \"\"\"\n",
        "    sent_vec = SRC.process([sentence]).to(device)\n",
        "    input = torch.zeros((max_size, 1)).type(torch.LongTensor).to(device)\n",
        "    input += SRC.vocab.stoi['<sos>']\n",
        "    translation_idx, weights = model.translate(sent_vec, input)\n",
        "    vyvod = []\n",
        "    for t in translation_idx:\n",
        "        if t[0].max(0)[1] != EOS_IDX:\n",
        "            vyvod.append(TRG.vocab.itos[t[0].max(0)[1]])\n",
        "        else:\n",
        "            break\n",
        "    return vyvod, weights"
      ],
      "execution_count": 0,
      "outputs": []
    },
    {
      "cell_type": "code",
      "metadata": {
        "colab_type": "code",
        "id": "sP2TiDm18gyi",
        "colab": {
          "base_uri": "https://localhost:8080/",
          "height": 222
        },
        "outputId": "5800dbe0-1d01-417f-980f-7dd1e447165f"
      },
      "source": [
        "translate([\"<sos>\",\"ein\", \"klein\", \"apfel\", \"<eos>\"])"
      ],
      "execution_count": 168,
      "outputs": [
        {
          "output_type": "stream",
          "text": [
            "/usr/local/lib/python3.6/dist-packages/ipykernel_launcher.py:50: UserWarning: To copy construct from a tensor, it is recommended to use sourceTensor.clone().detach() or sourceTensor.clone().detach().requires_grad_(True), rather than torch.tensor(sourceTensor).\n"
          ],
          "name": "stderr"
        },
        {
          "output_type": "execute_result",
          "data": {
            "text/plain": [
              "(['<unk>', 'a', 'is', 'is', 'a', '.', '.'],\n",
              " [tensor([[[1.]]], device='cuda:0'),\n",
              "  tensor([[[1.]]], device='cuda:0'),\n",
              "  tensor([[[1.]]], device='cuda:0'),\n",
              "  tensor([[[1.]]], device='cuda:0'),\n",
              "  tensor([[[1.]]], device='cuda:0'),\n",
              "  tensor([[[1.]]], device='cuda:0'),\n",
              "  tensor([[[1.]]], device='cuda:0'),\n",
              "  tensor([[[1.]]], device='cuda:0'),\n",
              "  tensor([[[1.]]], device='cuda:0')])"
            ]
          },
          "metadata": {
            "tags": []
          },
          "execution_count": 168
        }
      ]
    },
    {
      "cell_type": "markdown",
      "metadata": {
        "colab_type": "text",
        "id": "tBrHtQ_qrSKX"
      },
      "source": [
        "ИИИИ давайте также научимся считать самую популярную метрику для перевода -- BLEU (https://en.wikipedia.org/wiki/BLEU)\n",
        "\n",
        "В общем-то, вам повезло -- ее писать руками скучно, да и nltk ее написало за вас:"
      ]
    },
    {
      "cell_type": "code",
      "metadata": {
        "colab_type": "code",
        "id": "HFIVyXXeJrCr",
        "colab": {}
      },
      "source": [
        "from nltk.translate.bleu_score import corpus_bleu, sentence_bleu\n",
        "from nltk.translate.bleu_score import SmoothingFunction\n",
        "\n",
        "def compute_bleu(inp_lines, out_lines):\n",
        "    \"\"\" Estimates corpora-level BLEU score of model's translations given inp and reference out \"\"\"\n",
        "    translations = [[translate(line)[0]] for line in inp_lines]\n",
        "    return corpus_bleu(translations, out_lines) * 100"
      ],
      "execution_count": 0,
      "outputs": []
    },
    {
      "cell_type": "code",
      "metadata": {
        "id": "pXMoE1b9O3dF",
        "colab_type": "code",
        "colab": {}
      },
      "source": [
        "a = [[SRC.vocab.itos[j] for j in next(iter(test_iterator)).src[:, i]] for i in range(64)]\n",
        "b = [[TRG.vocab.itos[j] for j in next(iter(test_iterator)).trg[:, i]] for i in range(64)]"
      ],
      "execution_count": 0,
      "outputs": []
    },
    {
      "cell_type": "code",
      "metadata": {
        "colab_type": "code",
        "id": "4bi1oJ_brjkO",
        "outputId": "a8225f9e-c896-4953-9eab-acd68d33069f",
        "colab": {
          "base_uri": "https://localhost:8080/",
          "height": 70
        }
      },
      "source": [
        "compute_bleu(a, b)"
      ],
      "execution_count": 171,
      "outputs": [
        {
          "output_type": "stream",
          "text": [
            "/usr/local/lib/python3.6/dist-packages/ipykernel_launcher.py:50: UserWarning: To copy construct from a tensor, it is recommended to use sourceTensor.clone().detach() or sourceTensor.clone().detach().requires_grad_(True), rather than torch.tensor(sourceTensor).\n"
          ],
          "name": "stderr"
        },
        {
          "output_type": "execute_result",
          "data": {
            "text/plain": [
              "7.46387198903277"
            ]
          },
          "metadata": {
            "tags": []
          },
          "execution_count": 171
        }
      ]
    },
    {
      "cell_type": "code",
      "metadata": {
        "id": "P2TXwm-WajUT",
        "colab_type": "code",
        "colab": {}
      },
      "source": [
        "corpus_bleu([[['man', 'works']], [['man', 'works']]], [['man', 'works', 'cdssdcsd', 'dcscsdc', 'shit'], ['man', 'works']]) * 100"
      ],
      "execution_count": 0,
      "outputs": []
    },
    {
      "cell_type": "markdown",
      "metadata": {
        "id": "Kuf44w8R9WnV",
        "colab_type": "text"
      },
      "source": [
        "Если вы реализовали несколько методов аттеншена, опишите каждый из них и полученную метрику на нем в отчете.\n",
        "\n",
        "<Место для вашего отчета>"
      ]
    },
    {
      "cell_type": "code",
      "metadata": {
        "id": "8v7kSMdyE_sE",
        "colab_type": "code",
        "colab": {}
      },
      "source": [
        "source = [next(iter(test_iterator)).src[:, 3]]\n",
        "target = next(iter(test_iterator)).trg[:, 3]"
      ],
      "execution_count": 0,
      "outputs": []
    },
    {
      "cell_type": "code",
      "metadata": {
        "id": "l9nDGJB_GaKD",
        "colab_type": "code",
        "colab": {}
      },
      "source": [
        "[TRG.vocab.itos[j] for j in target]"
      ],
      "execution_count": 0,
      "outputs": []
    },
    {
      "cell_type": "code",
      "metadata": {
        "id": "CbaEJh4gG_gB",
        "colab_type": "code",
        "colab": {}
      },
      "source": [
        ""
      ],
      "execution_count": 0,
      "outputs": []
    }
  ]
}